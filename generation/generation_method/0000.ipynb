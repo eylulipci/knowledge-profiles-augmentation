{
 "cells": [
  {
   "cell_type": "code",
   "execution_count": null,
   "id": "c57eeddc-a69c-429e-a47f-461f1667ffdf",
   "metadata": {},
   "outputs": [],
   "source": [
    "import pandas as pd\n",
    "from collections import Counter\n",
    "\n",
    "dataset_path = \"path/to/original/data\"\n",
    "df = pd.read_excel(dataset_path, sheet_name='contraposition')\n",
    "\n",
    "# rubrics of the original dataset\n",
    "rubrics = [\n",
    "    'Statement of what should be proven: A proof by contraposition of an implication consists in showing that if x rational, then x^2 is rational. ',\n",
    "    'Correct assumption: x is rational [Assumption] ',\n",
    "    'Correct proof reasoning',\n",
    "    'Proof conclusion: By contraposition, if x^2 is irrational, then x is irrational.'\n",
    "]\n",
    "\n",
    "#knowledge profile column\n",
    "df['Knowledge Profile'] = df[rubrics].astype(str).agg(''.join, axis=1)\n",
    "\n",
    "\n",
    "knowledge_profile_mistakes = {}\n",
    "for _, row in df.iterrows():\n",
    "    knowledge_profile = row['Knowledge Profile']\n",
    "    comments = row['Comments - Eylül']\n",
    "    \n",
    "    if pd.notna(comments):\n",
    "        mistakes = [mistake.strip() for mistake in comments.split(',')]\n",
    "        \n",
    "        if knowledge_profile not in knowledge_profile_mistakes:\n",
    "            knowledge_profile_mistakes[knowledge_profile] = Counter()\n",
    "        \n",
    "        knowledge_profile_mistakes[knowledge_profile].update(mistakes)\n",
    "\n",
    "mistakes_df = pd.DataFrame([\n",
    "    {'Knowledge Profile': kp, 'Mistake': mistake, 'Count': count}\n",
    "    for kp, mistakes in knowledge_profile_mistakes.items()\n",
    "    for mistake, count in mistakes.items()\n",
    "])\n",
    "\n",
    "mistakes_df[mistakes_df['Knowledge Profile'] == '0000']"
   ]
  },
  {
   "cell_type": "code",
   "execution_count": null,
   "id": "adecfa26-6ef6-4233-bfb3-4abf248fbdeb",
   "metadata": {},
   "outputs": [],
   "source": [
    "import pandas as pd\n",
    "from collections import Counter\n",
    "\n",
    "dataset_path = \"path/to/kp/dataset/original\"\n",
    "df = pd.read_excel(dataset_path)\n",
    "\n",
    "# rubrics of the original dataset\n",
    "rubrics = [\n",
    "    'Statement of what should be proven: A proof by contraposition of an implication consists in showing that if x rational, then x^2 is rational. ',\n",
    "    'Correct assumption: x is rational [Assumption] ',\n",
    "    'Correct proof reasoning',\n",
    "    'Proof conclusion: By contraposition, if x^2 is irrational, then x is irrational.'\n",
    "]\n",
    "\n",
    "#knowledge profile column\n",
    "df['Knowledge Profile'] = df[rubrics].astype(str).agg(''.join, axis=1)\n",
    "\n",
    "knowledge_profile_mistakes = {}\n",
    "\n",
    "for _, row in df.iterrows():\n",
    "    knowledge_profile = row['Knowledge Profile']\n",
    "    comments = row['Comments - Eylül']\n",
    "    \n",
    "    if pd.notna(comments):\n",
    "        mistakes = [mistake.strip() for mistake in comments.split(',')]\n",
    "        \n",
    "        if knowledge_profile not in knowledge_profile_mistakes:\n",
    "            knowledge_profile_mistakes[knowledge_profile] = Counter()\n",
    "        \n",
    "        knowledge_profile_mistakes[knowledge_profile].update(mistakes)\n",
    "\n",
    "mistakes_df = pd.DataFrame([\n",
    "    {'Knowledge Profile': kp, 'Mistake': mistake, 'Count': count}\n",
    "    for kp, mistakes in knowledge_profile_mistakes.items()\n",
    "    for mistake, count in mistakes.items()\n",
    "])\n",
    "mistakes_df"
   ]
  },
  {
   "cell_type": "markdown",
   "id": "e8d0a280-b135-4428-b676-3ac518d9b3b9",
   "metadata": {},
   "source": [
    "## Chosen Mistakes"
   ]
  },
  {
   "cell_type": "markdown",
   "id": "383ca00c-2f80-4512-bee6-d2386a18b1df",
   "metadata": {},
   "source": [
    "- no statement to be proven\n",
    "- contraposition statement: not P -> not Q\n",
    "- contrapositive statement: Q -> P\n",
    "- assume x^2 is rational\n",
    "- assume x^2 irrational\t\n",
    "- assume x irrational\n",
    "- assume p->q and not q\n",
    "- assume x rational and x^2 irrational (assume not Q and P)"
   ]
  },
  {
   "cell_type": "markdown",
   "id": "6128d261-11f9-4d69-83bd-cf9012221dbc",
   "metadata": {},
   "source": [
    "## Utils"
   ]
  },
  {
   "cell_type": "code",
   "execution_count": null,
   "id": "6fabd1fa-35c8-414f-9266-b6189d2cb69d",
   "metadata": {},
   "outputs": [],
   "source": [
    "knowledge_profiles = {\n",
    "    '1111': \"This knowledge profile represents student answers where the student correctly states what should be proven (rubric 1), makes the correct assumption (rubric 2), follows correct proof reasoning (rubric 3), and correctly concludes the proof (rubric 4). However, minor inconsistencies such as variations in notation or redundant steps may still be present.\",\n",
    "    '0000': \"This knowledge profile represents student answers where the student fails to correctly state what should be proven (rubric 1), does not make the correct assumption (rubric 2), lacks correct proof reasoning (rubric 3), and does not conclude the proof correctly (rubric 4).\",\n",
    "    '1110': \"This knowledge profile represents student answers where the student correctly states what should be proven (rubric 1), makes the correct assumption (rubric 2), and follows correct proof reasoning (rubric 3), but fails to correctly conclude the proof (rubric 4).\",\n",
    "    '0111': \"This knowledge profile represents student answers where the student fails to correctly state what should be proven (rubric 1) but makes the correct assumption (rubric 2), follows correct proof reasoning (rubric 3), and correctly concludes the proof (rubric 4).\",\n",
    "    '0110': \"This knowledge profile represents student answers where the student fails to correctly state what should be proven (rubric 1) but makes the correct assumption (rubric 2) and follows correct proof reasoning (rubric 3), but fails to correctly conclude the proof (rubric 4).\",\n",
    "    '1100': \"This knowledge profile represents student answers where the student correctly states what should be proven (rubric 1) and makes the correct assumption (rubric 2) but does not follow correct proof reasoning (rubric 3) and fails to conclude the proof correctly (rubric 4).\",\n",
    "    '1000': \"This knowledge profile represents student answers where the student correctly states what should be proven (rubric 1) but does not make the correct assumption (rubric 2), lacks correct proof reasoning (rubric 3), and does not conclude the proof correctly (rubric 4).\",\n",
    "    '0100': \"This knowledge profile represents student answers where the student fails to correctly state what should be proven (rubric 1) but makes the correct assumption (rubric 2), while lacking correct proof reasoning (rubric 3) and not concluding the proof correctly (rubric 4).\"\n",
    "    }"
   ]
  },
  {
   "cell_type": "code",
   "execution_count": null,
   "id": "aaaab9aa-1e6f-429b-8dcc-cc79992b82b3",
   "metadata": {},
   "outputs": [],
   "source": [
    "mistakes = {\n",
    "    'no statement to be proven': \"The student does not clearly state what needs to be proven, omitting the initial setup necessary for the proof by contraposition.\",\n",
    "    'assume x\\^2 is rational': \"The student incorrectly assumes x^2 is rational instead of assuming x is rational, which leads them to misapply the proof technique from the beginning.\",\n",
    "    'contrapositive statement: not Q -> P': \"The student misstates the contrapositive as 'not Q implies P' (i.e., 'if x is rational, then x^2 is irrational') instead of the correct contrapositive form 'not Q implies not P' (i.e., 'if x is rational, then x^2 is rational').\",\n",
    "    'contraposition statement: not P -> not Q': \"The student incorrectly states the contrapositive as 'not P implies not Q' (e.g., 'if x^2 is rational, then x is rational') instead of the correct contrapositive form 'not Q implies not P' (e.g., 'if x is rational, then x^2 is rational').\",\n",
    "    'assume x irrational': \"The student incorrectly assumes that x is irrational instead of assuming x is rational, which is required for a proof by contraposition. This mistake leads to a flawed setup that prevents the correct logical progression of the proof.\",\n",
    "    'contrapositive statement: Q -> P': \"The student incorrectly states the contrapositive as 'Q implies P' (e.g., 'if x is irrational, then x^2 is irrational') instead of the correct contrapositive form 'not Q implies not P' (e.g., 'if x is rational, then x^2 is rational').\",\n",
    "    'assume x\\^2 irrational': \"The student incorrectly assumes that x^2 is irrational instead of assuming x is rational, which is required for a proof by contraposition. This mistake leads to a flawed setup that prevents the correct logical progression of the proof.\",\n",
    "    'assume x rational and x^2 irrational (assume not Q and P)': \"The student incorrectly assumes both x^2 is irrational (P) and x is rational (not Q). This conflicts with the logical framework of contraposition, which requires assuming not Q (x is rational) to prove not P (x^2 is rational).\",\n",
    "    'assume p->q and not q': \"The student incorrectly assumes both the statement P -> Q ('if x^2 is irrational, then x is irrational') and not Q ('x is rational') as starting points for the proof by contraposition. This shows a misunderstanding of the purpose of contraposition, which is to prove P -> Q by assuming not Q and deriving not P, rather than taking P -> Q as already true.\"\n",
    "\n",
    "}"
   ]
  },
  {
   "cell_type": "code",
   "execution_count": null,
   "id": "3edd3e19-f350-4885-9d83-e000c8b00194",
   "metadata": {},
   "outputs": [],
   "source": [
    "import random\n",
    "random.seed(42)\n",
    "def get_answers_for_mistake_and_profile(df, knowledge_profile, mistake_type, profile_column='Knowledge Profile', mistake_column='Comments - Eylül', answer_column='CONTRAPOSITION task'):\n",
    "    \n",
    "    filtered_df = df[df[profile_column].astype(str) == knowledge_profile]\n",
    "    filtered_df = filtered_df[filtered_df[mistake_column].str.contains(mistake_type, case=False, na=False)]\n",
    "    \n",
    "    answers = filtered_df[answer_column].tolist()\n",
    "    random.shuffle(answers)\n",
    "    \n",
    "    return answers"
   ]
  },
  {
   "cell_type": "code",
   "execution_count": null,
   "id": "c07a79e9-b38a-4586-aa35-82f2d0080c37",
   "metadata": {},
   "outputs": [],
   "source": [
    "def construct_prompt(target_knowledge_profile, target_mistake, num_answers, example_answers):\n",
    "\n",
    "    # define generic parts of the prompt\n",
    "    target_knowledge_profile_and_mistake = f\"\"\"\n",
    "        TARGET KNOWLEDGE PROFILE AND MISTAKE:\n",
    "        I want you to generate answers for {num_answers} students with the knowledge profile {target_knowledge_profile}. {knowledge_profiles[target_knowledge_profile]} A common mistake students with this profile make is: {mistakes[target_mistake]}\n",
    "        You will generate student answers with this profile and this mistake.\n",
    "        Please ensure that each answer demonstrates the specified knowledge profile characteristics in addition to the specific mistake. Do not just generate an answer with the mistake and a correct proof otherwise; the answer should reflect both the knowledge profile and the mistake.\n",
    "        The generated answers have to be different and diverse, do not just paraphrase the given examples.\n",
    "        \"\"\"\n",
    "\n",
    "    examples = f\"\"\"\n",
    "        EXAMPLES:\n",
    "        Here are a few real answers from students who made this mistake and have this knowledge profile:\n",
    "        {example_answers}\n",
    "        \"\"\"\n",
    "\n",
    "    messages = [{\"role\": \"system\", \"content\": SYSTEM_ROLE},\n",
    "                {\"role\": \"user\", \"content\": TASK_DESCRIPTION},\n",
    "                {\"role\": \"user\", \"content\": SOLUTION},\n",
    "                {\"role\": \"user\", \"content\": GRADING_RUBRICS},\n",
    "                {\"role\": \"user\", \"content\": KNOWLEDGE_PROFILES_EXPLANATION},\n",
    "                {\"role\": \"user\", \"content\": target_knowledge_profile_and_mistake},\n",
    "                {\"role\": \"user\", \"content\": examples},\n",
    "                {\"role\": \"user\", \"content\": OUTPUT_FORMAT}]\n",
    "    \n",
    "    return messages"
   ]
  },
  {
   "cell_type": "code",
   "execution_count": null,
   "id": "9ee5325a-8383-43e4-9a2f-3929d34c6797",
   "metadata": {},
   "outputs": [],
   "source": [
    "import json\n",
    "from datetime import datetime\n",
    "import os\n",
    "def save_completion_with_metadata(completion, prompt_messages, knowledge_profile, mistake_type, n, num_answers, temperature, save_dir):\n",
    "    # Add extra metadata to the completion object\n",
    "    completion[\"metadata\"] = {\n",
    "        \"prompt\": prompt_messages,\n",
    "        \"knowledge_profile\": knowledge_profile,\n",
    "        \"mistake_type\": mistake_type,\n",
    "        \"n_instances\": n,\n",
    "        \"num_answers\": num_answers,\n",
    "        \"temperature\": temperature\n",
    "    }\n",
    "    \n",
    "    # Generate filename with knowledge profile, date, and time\n",
    "    timestamp = datetime.now().strftime(\"%Y%m%d_%H%M%S\")\n",
    "    filename = f\"{knowledge_profile}_{timestamp}.json\"\n",
    "    save_path = os.path.join(save_dir, knowledge_profile, filename)\n",
    "    \n",
    "    os.makedirs(os.path.dirname(save_path), exist_ok=True)\n",
    "    with open(save_path, 'w') as json_file:\n",
    "        json.dump(completion, json_file, indent=4)\n",
    "    return save_path"
   ]
  },
  {
   "cell_type": "code",
   "execution_count": null,
   "id": "3ce61c94-9c49-483c-af62-fbb3e98f2f69",
   "metadata": {},
   "outputs": [],
   "source": [
    "import json\n",
    "import os\n",
    "import re\n",
    "\n",
    "def process_json_to_txt(input_json_path, output_dir):\n",
    "    with open(input_json_path, 'r') as file:\n",
    "        data = json.load(file)\n",
    "\n",
    "    # Extract metadata from the filename\n",
    "    json_filename = os.path.basename(input_json_path)\n",
    "    base_filename = os.path.splitext(json_filename)[0]\n",
    "\n",
    "    for choice_index, choice in enumerate(data.get(\"choices\", [])):\n",
    "        content = choice.get(\"message\", {}).get(\"content\", \"\")\n",
    "\n",
    "        # Split content by '$' to separate each generated instance\n",
    "        instances = content.split('$')\n",
    "        \n",
    "        for idx, instance in enumerate(instances):\n",
    "            if instance.strip():  \n",
    "                # Remove the grade formatted between '&' characters\n",
    "                instance_cleaned = re.sub(r'&.*?&', '', instance).strip()\n",
    "\n",
    "                # Sanitize the mistake name to avoid issues with special characters\n",
    "                mistake_name = data.get(\"metadata\", {}).get(\"mistake_type\", \"unknown_mistake\").replace(' ', '_').replace('/', '_').replace('\\\\', '_').replace(':', '_').replace('>','').replace('\\'', '').replace('__', '_').replace('-', '_').replace('_^', '')[:30] \n",
    "                knowledge_profile = data.get(\"metadata\", {}).get(\"knowledge_profile\", \"unknown_profile\")\n",
    "                instance_dir = os.path.join(output_dir, knowledge_profile, mistake_name)\n",
    "                os.makedirs(instance_dir, exist_ok=True)\n",
    "\n",
    "                output_filename = f\"{base_filename}_{mistake_name}_{choice_index + 1}_{idx + 1}.txt\"\n",
    "                output_path = os.path.join(instance_dir, output_filename)\n",
    "\n",
    "                with open(output_path, 'w', encoding='utf-8') as txt_file:\n",
    "                    txt_file.write(instance_cleaned)\n"
   ]
  },
  {
   "cell_type": "markdown",
   "id": "a86b5711-8256-4415-8728-18483c26f9d3",
   "metadata": {},
   "source": [
    "## Prompt"
   ]
  },
  {
   "cell_type": "code",
   "execution_count": null,
   "id": "e196d824-de5e-4321-9702-605e679ecfbb",
   "metadata": {},
   "outputs": [],
   "source": [
    "SYSTEM_ROLE = \"\"\"\n",
    "You are a text generator that generates realistic student responses for a proof by contraposition question. Your role is to simulate student answers based on provided knowledge profiles and specific mistakes, which will be explained in more detail along with examples. Avoid including any evaluative language or comments that could bias the responses, as the generated data is used to train classifiers. Maintain a neutral, student-like tone and focus on coherence and clarity in your responses.\n",
    "\"\"\""
   ]
  },
  {
   "cell_type": "code",
   "execution_count": null,
   "id": "1ecac6a5-5596-49b8-a195-1eaed2b01805",
   "metadata": {},
   "outputs": [],
   "source": [
    "TASK_DESCRIPTION = \"\"\"\n",
    "TASK DESCRIPTION:\n",
    "Students are expected to answer this task:\n",
    "\"Let x be a real number. Prove that if x^2 is irrational, then x is irrational using a proof by contraposition.\n",
    "\n",
    "Reminders:\n",
    "- A real number x is irrational if it cannot be expressed as the quotient of two integers - that is, p/q where p and q (both integers) are not zero.\n",
    "- A real number x is rational if it can be expressed as the quotient of two integers - that is, p/q where p and q (both integers) are not zero.\"\n",
    "\"\"\""
   ]
  },
  {
   "cell_type": "code",
   "execution_count": null,
   "id": "a4f53bdd-c627-4002-9c03-3c447879384b",
   "metadata": {},
   "outputs": [],
   "source": [
    "SOLUTION = \"\"\"\n",
    "SOLUTION:\n",
    "As a reference, here is the correct solution for this problem:\n",
    "A proof by contraposition of an implication consists in showing that if x is rational, then x^2 is rational.\n",
    "1. x is rational [Assumption]\n",
    "2. x = a/b, where a and b ≠ 0 are integers with no common factors. [Definition of a rational number]\n",
    "3. Therefore, x^2 = a^2/b^2. [Squaring]\n",
    "4. Hence, x^2 is rational. [Definition of a rational number]\n",
    "5. By contraposition, if x^2 is irrational, then x is irrational.\n",
    "\"\"\""
   ]
  },
  {
   "cell_type": "code",
   "execution_count": null,
   "id": "ad4921c9-d79e-406a-8c4a-72e7679196a6",
   "metadata": {},
   "outputs": [],
   "source": [
    "GRADING_RUBRICS = \"\"\"\n",
    "GRADING RUBRICS:\n",
    "Students are graded using 4 binary rubrics:\n",
    "1. Statement of what should be proven: A proof by contraposition of an implication consists in showing that if x is rational, then x^2 is rational.\n",
    "2. Correct assumption: x is rational\n",
    "3. Correct proof reasoning\n",
    "4. Proof conclusion: By contraposition, if x^2 is irrational, then x is irrational.\n",
    "\n",
    "It is acceptable if students do not write the exact same answer as the solution. If the response satisfies the rubrics more or less, the student receives the point.\n",
    "\"\"\""
   ]
  },
  {
   "cell_type": "code",
   "execution_count": null,
   "id": "742659bb-91f6-4f19-9e8e-59948734c1c3",
   "metadata": {},
   "outputs": [],
   "source": [
    "KNOWLEDGE_PROFILES_EXPLANATION = \"\"\"\n",
    "KNOWLEDGE PROFILES:\n",
    "We identify a student's knowledge profile based on their score in these 4 rubrics. For example:\n",
    "- A student with all rubrics incorrect will have the profile 0-0-0-0.\n",
    "- A student who has rubric 1 and 2 correct but 3 and 4 incorrect will have the profile 1-1-0-0.\n",
    "\"\"\""
   ]
  },
  {
   "cell_type": "code",
   "execution_count": null,
   "id": "52d4ba12-3c66-4512-859b-3377f789a412",
   "metadata": {},
   "outputs": [],
   "source": [
    "OUTPUT_FORMAT = \"\"\"\n",
    "DESIRED OUTPUT FORMAT:\n",
    "- Separate each generated student answer with the character \"$\".\n",
    "- Do not include any comments or evaluative language since the data is used to train a classifier.\n",
    "- Words like \"correct\", \"incorrect\", \"right\", \"wrong\", \"correctly\", and \"incorrectly\" are not allowed.\n",
    "- When you generate an answer of a student that has mistakes, you have to act as a student who does not know the correct answer, and does not know that he is answering wrong.\n",
    "- You have to generate an answer that is coherent with the knowledge profile and the specific mistake of the student.\n",
    "- At the end of each answer, include a grade formatted between two \"&\" characters, such as &1111& for a student scoring 1 in all rubrics or &0000& for a student scoring 0 in all. Please evaluate each generated answer based on the rubrics provided, grading it independently of the target knowledge profile specified in this prompt. Do not assume the answer matches the target profile; instead, assess it as if you were grading any student's answer without prior knowledge of the intended profile.\n",
    "- Use the following syntax for formulas:\n",
    "  - To put a to the power of b: (a POWER b) or a^b. Vary the syntax between them.\n",
    "  - To divide a by b, use a/b.\n",
    "- Structure your proof line by line, as shown in the example:\n",
    "\"Show that from p ∧ (p -> q) we can conclude q:\n",
    "1) p ∧ (p -> q)\n",
    "2) p  \n",
    "3) (p -> q) \n",
    "4) q\"\n",
    "\"\"\""
   ]
  },
  {
   "cell_type": "markdown",
   "id": "f6a857cd-fb2c-4962-b84b-4e63f948ba30",
   "metadata": {},
   "source": [
    "## OpenAI Setup"
   ]
  },
  {
   "cell_type": "code",
   "execution_count": null,
   "id": "e2c59b0a-f0a9-4591-a2d3-c718dd2041ba",
   "metadata": {},
   "outputs": [],
   "source": [
    "key = 'API key'"
   ]
  },
  {
   "cell_type": "code",
   "execution_count": null,
   "id": "34a3acc1-02ed-42a1-bd99-cdc1d9e21eea",
   "metadata": {},
   "outputs": [],
   "source": [
    "from openai import OpenAI\n",
    "\n",
    "OpenAI.api_key = key\n",
    "client = OpenAI(api_key=key)\n",
    "\n",
    "model=\"gpt-4o\"\n",
    "temperature=1"
   ]
  },
  {
   "cell_type": "markdown",
   "id": "122545cb-2636-4435-8ba8-42b8416f57bd",
   "metadata": {},
   "source": [
    "## Generating Responses for 0000"
   ]
  },
  {
   "cell_type": "code",
   "execution_count": null,
   "id": "645f6760-1a50-4f78-a894-e92caddfd828",
   "metadata": {},
   "outputs": [],
   "source": [
    "data1_path = 'path/to/original/data'\n",
    "data2_path = 'path/to/kp/dataset/original'\n",
    "\n",
    "save_dir = f'raw_responses/temp_{temperature}'\n",
    "output_dir = f'processed_responses/temp_{temperature}' "
   ]
  },
  {
   "cell_type": "code",
   "execution_count": null,
   "id": "f6d9f97e-5e1e-4573-93b0-fc90da323503",
   "metadata": {},
   "outputs": [],
   "source": [
    "import pandas as pd\n",
    "\n",
    "# Load the dataset\n",
    "df1 = pd.read_excel(data1_path, sheet_name='contraposition')\n",
    "df2 = pd.read_excel(data2_path, dtype={'Knowledge Profile': str})\n",
    "\n",
    "# rubrics of the original dataset\n",
    "rubrics = [\n",
    "    'Statement of what should be proven: A proof by contraposition of an implication consists in showing that if x rational, then x^2 is rational. ',\n",
    "    'Correct assumption: x is rational [Assumption] ',\n",
    "    'Correct proof reasoning',\n",
    "    'Proof conclusion: By contraposition, if x^2 is irrational, then x is irrational.'\n",
    "]\n",
    "df1['Knowledge Profile'] = df1[rubrics].astype(str).agg(''.join, axis=1)"
   ]
  },
  {
   "cell_type": "markdown",
   "id": "5afedf7d-3b1b-430d-8c6f-c15632e1040e",
   "metadata": {},
   "source": [
    "### no statement to be proven"
   ]
  },
  {
   "cell_type": "code",
   "execution_count": null,
   "id": "46fa3753-7f54-4cd9-99f8-49be5ff12a36",
   "metadata": {
    "scrolled": true
   },
   "outputs": [],
   "source": [
    "target_knowledge_profile = '0000'\n",
    "target_mistake = 'no statement to be proven'\n",
    "num_answers = 2\n",
    "num_examples = 5\n",
    "dataset = 1\n",
    "\n",
    "if dataset == 1:\n",
    "    df = df1\n",
    "elif dataset == 2:\n",
    "    df = df2\n",
    "    \n",
    "examples_list = get_answers_for_mistake_and_profile(df, target_knowledge_profile, target_mistake)\n",
    "examples_count = min(num_examples, len(examples_list))\n",
    "example_answers = \"\\n\".join([f\"- {answer}\" for answer in examples_list[:examples_count]])\n",
    "print(\"Example answers: \", example_answers, ' \\n')\n",
    "# construct the prompt \n",
    "prompt = construct_prompt(target_knowledge_profile, target_mistake, num_answers, example_answers)\n",
    "print(\"Prompt: \", prompt, '\\n')\n",
    "\n",
    "n=15"
   ]
  },
  {
   "cell_type": "code",
   "execution_count": null,
   "id": "b1e4fa8b-1958-4557-9538-9fdbe6f8782a",
   "metadata": {
    "scrolled": true
   },
   "outputs": [],
   "source": [
    "completion = client.chat.completions.create(\n",
    "    model=model,\n",
    "    messages=prompt,\n",
    "    temperature=temperature,\n",
    "    n=n\n",
    ")\n",
    "path = save_completion_with_metadata(completion.to_dict(), prompt, target_knowledge_profile, target_mistake, n, num_answers, temperature, save_dir=save_dir) \n",
    "process_json_to_txt(path, output_dir)"
   ]
  },
  {
   "cell_type": "markdown",
   "id": "6fec7087-a5f0-4a24-9cb4-c69daa7f0859",
   "metadata": {
    "jp-MarkdownHeadingCollapsed": true
   },
   "source": [
    "### contraposition statement: not P -> not Q"
   ]
  },
  {
   "cell_type": "code",
   "execution_count": null,
   "id": "b671bc04-9060-49fb-a542-ca0b91503080",
   "metadata": {
    "scrolled": true
   },
   "outputs": [],
   "source": [
    "target_knowledge_profile = '0000'\n",
    "target_mistake = 'contraposition statement: not P -> not Q'\n",
    "num_answers = 2\n",
    "num_examples = 5\n",
    "dataset = 2\n",
    "\n",
    "if dataset == 1:\n",
    "    df = df1\n",
    "elif dataset == 2:\n",
    "    df = df2\n",
    "    \n",
    "examples_list = get_answers_for_mistake_and_profile(df, target_knowledge_profile, target_mistake)\n",
    "examples_count = min(num_examples, len(examples_list))\n",
    "example_answers = \"\\n\".join([f\"- {answer}\" for answer in examples_list[:examples_count]])\n",
    "print(\"Example answers: \", example_answers, ' \\n')\n",
    "# construct the prompt \n",
    "prompt = construct_prompt(target_knowledge_profile, target_mistake, num_answers, example_answers)\n",
    "print(\"Prompt: \", prompt, '\\n')\n",
    "\n",
    "n=15"
   ]
  },
  {
   "cell_type": "code",
   "execution_count": null,
   "id": "56d1ca28-d3a6-405e-94c5-720a7de78eb5",
   "metadata": {
    "scrolled": true
   },
   "outputs": [],
   "source": [
    "completion = client.chat.completions.create(\n",
    "    model=model,\n",
    "    messages=prompt,\n",
    "    temperature=temperature,\n",
    "    n=n\n",
    ")\n",
    "path = save_completion_with_metadata(completion.to_dict(), prompt, target_knowledge_profile, target_mistake, n, num_answers, temperature, save_dir=save_dir) \n",
    "process_json_to_txt(path, output_dir)"
   ]
  },
  {
   "cell_type": "markdown",
   "id": "f7cb2df0-5ff9-4255-ae60-d36811b282a8",
   "metadata": {
    "jp-MarkdownHeadingCollapsed": true
   },
   "source": [
    "### contrapositive statement: Q -> P"
   ]
  },
  {
   "cell_type": "code",
   "execution_count": null,
   "id": "3a2f66f8-338e-436c-b769-91af5cc9308d",
   "metadata": {},
   "outputs": [],
   "source": [
    "target_knowledge_profile = '0000'\n",
    "target_mistake = 'contrapositive statement: Q -> P'\n",
    "num_answers = 2\n",
    "num_examples = 5\n",
    "dataset = 2\n",
    "\n",
    "if dataset == 1:\n",
    "    df = df1\n",
    "elif dataset == 2:\n",
    "    df = df2\n",
    "    \n",
    "examples_list = get_answers_for_mistake_and_profile(df, target_knowledge_profile, target_mistake)\n",
    "examples_count = min(num_examples, len(examples_list))\n",
    "example_answers = \"\\n\".join([f\"- {answer}\" for answer in examples_list[:examples_count]])\n",
    "print(\"Example answers: \", example_answers, ' \\n')\n",
    "# construct the prompt \n",
    "prompt = construct_prompt(target_knowledge_profile, target_mistake, num_answers, example_answers)\n",
    "print(\"Prompt: \", prompt, '\\n')\n",
    "\n",
    "n=15"
   ]
  },
  {
   "cell_type": "code",
   "execution_count": null,
   "id": "086f6ce7-8afa-4a4c-a572-269c1362d9c3",
   "metadata": {
    "scrolled": true
   },
   "outputs": [],
   "source": [
    "completion = client.chat.completions.create(\n",
    "    model=model,\n",
    "    messages=prompt,\n",
    "    temperature=temperature,\n",
    "    n=n\n",
    ")\n",
    "path = save_completion_with_metadata(completion.to_dict(), prompt, target_knowledge_profile, target_mistake, n, num_answers, temperature, save_dir=save_dir) \n",
    "process_json_to_txt(path, output_dir)"
   ]
  },
  {
   "cell_type": "markdown",
   "id": "844200da-55aa-48a9-ade8-5281406cc800",
   "metadata": {
    "jp-MarkdownHeadingCollapsed": true
   },
   "source": [
    "### assume x^2 is rational"
   ]
  },
  {
   "cell_type": "code",
   "execution_count": null,
   "id": "0d26b80c-85f7-4688-842d-6fadcdb4a261",
   "metadata": {
    "scrolled": true
   },
   "outputs": [],
   "source": [
    "target_knowledge_profile = '0000'\n",
    "target_mistake = 'assume x\\^2 is rational'\n",
    "num_answers = 2\n",
    "num_examples = 5\n",
    "dataset = 2\n",
    "\n",
    "if dataset == 1:\n",
    "    df = df1\n",
    "elif dataset == 2:\n",
    "    df = df2\n",
    "    \n",
    "examples_list = get_answers_for_mistake_and_profile(df, target_knowledge_profile, target_mistake)\n",
    "examples_count = min(num_examples, len(examples_list))\n",
    "example_answers = \"\\n\".join([f\"- {answer}\" for answer in examples_list[:examples_count]])\n",
    "print(\"Example answers: \", example_answers, ' \\n')\n",
    "# construct the prompt \n",
    "prompt = construct_prompt(target_knowledge_profile, target_mistake, num_answers, example_answers)\n",
    "print(\"Prompt: \", prompt, '\\n')\n",
    "\n",
    "n=15"
   ]
  },
  {
   "cell_type": "code",
   "execution_count": null,
   "id": "8439e3b4-96c5-4fce-8b82-712e9c6dd448",
   "metadata": {
    "scrolled": true
   },
   "outputs": [],
   "source": [
    "completion = client.chat.completions.create(\n",
    "    model=model,\n",
    "    messages=prompt,\n",
    "    temperature=temperature,\n",
    "    n=n\n",
    ")\n",
    "path = save_completion_with_metadata(completion.to_dict(), prompt, target_knowledge_profile, target_mistake, n, num_answers, temperature, save_dir=save_dir) \n",
    "process_json_to_txt(path, output_dir)"
   ]
  },
  {
   "cell_type": "markdown",
   "id": "2ea3afbd-62b8-4498-a28e-735f82941198",
   "metadata": {
    "jp-MarkdownHeadingCollapsed": true
   },
   "source": [
    "### assume x^2 irrational"
   ]
  },
  {
   "cell_type": "code",
   "execution_count": null,
   "id": "d81cba1e-ac61-4a8f-ae6f-c621a5be8f56",
   "metadata": {
    "scrolled": true
   },
   "outputs": [],
   "source": [
    "target_knowledge_profile = '0000'\n",
    "target_mistake = 'assume x\\^2 irrational'\n",
    "num_answers = 2\n",
    "num_examples = 5\n",
    "dataset = 2\n",
    "\n",
    "if dataset == 1:\n",
    "    df = df1\n",
    "elif dataset == 2:\n",
    "    df = df2\n",
    "    \n",
    "examples_list = get_answers_for_mistake_and_profile(df, target_knowledge_profile, target_mistake)\n",
    "examples_count = min(num_examples, len(examples_list))\n",
    "example_answers = \"\\n\".join([f\"- {answer}\" for answer in examples_list[:examples_count]])\n",
    "print(\"Example answers: \", example_answers, ' \\n')\n",
    "# construct the prompt \n",
    "prompt = construct_prompt(target_knowledge_profile, target_mistake, num_answers, example_answers)\n",
    "print(\"Prompt: \", prompt, '\\n')\n",
    "\n",
    "n=15"
   ]
  },
  {
   "cell_type": "code",
   "execution_count": null,
   "id": "caa3a87c-154b-430b-8fbc-77c8fd42d366",
   "metadata": {
    "scrolled": true
   },
   "outputs": [],
   "source": [
    "completion = client.chat.completions.create(\n",
    "    model=model,\n",
    "    messages=prompt,\n",
    "    temperature=temperature,\n",
    "    n=n\n",
    ")\n",
    "path = save_completion_with_metadata(completion.to_dict(), prompt, target_knowledge_profile, target_mistake, n, num_answers, temperature, save_dir=save_dir) \n",
    "process_json_to_txt(path, output_dir)"
   ]
  },
  {
   "cell_type": "markdown",
   "id": "ea69fe5c-8900-421f-a95f-f2b6be7822d7",
   "metadata": {
    "jp-MarkdownHeadingCollapsed": true
   },
   "source": [
    "### assume x irrational"
   ]
  },
  {
   "cell_type": "code",
   "execution_count": null,
   "id": "e0eb8bd2-bb8b-4197-a0f7-0632b86aef8c",
   "metadata": {},
   "outputs": [],
   "source": [
    "target_knowledge_profile = '0000'\n",
    "target_mistake = 'assume x irrational'\n",
    "num_answers = 2\n",
    "num_examples = 5\n",
    "dataset = 2\n",
    "\n",
    "if dataset == 1:\n",
    "    df = df1\n",
    "elif dataset == 2:\n",
    "    df = df2\n",
    "    \n",
    "examples_list = get_answers_for_mistake_and_profile(df, target_knowledge_profile, target_mistake)\n",
    "examples_count = min(num_examples, len(examples_list))\n",
    "example_answers = \"\\n\".join([f\"- {answer}\" for answer in examples_list[:examples_count]])\n",
    "print(\"Example answers: \", example_answers, ' \\n')\n",
    "# construct the prompt \n",
    "prompt = construct_prompt(target_knowledge_profile, target_mistake, num_answers, example_answers)\n",
    "print(\"Prompt: \", prompt, '\\n')\n",
    "\n",
    "n=15"
   ]
  },
  {
   "cell_type": "code",
   "execution_count": null,
   "id": "b44c4d07-93dd-4751-be98-03b02d828a63",
   "metadata": {
    "scrolled": true
   },
   "outputs": [],
   "source": [
    "completion = client.chat.completions.create(\n",
    "    model=model,\n",
    "    messages=prompt,\n",
    "    temperature=temperature,\n",
    "    n=n\n",
    ")\n",
    "path = save_completion_with_metadata(completion.to_dict(), prompt, target_knowledge_profile, target_mistake, n, num_answers, temperature, save_dir=save_dir) \n",
    "process_json_to_txt(path, output_dir)"
   ]
  },
  {
   "cell_type": "markdown",
   "id": "2155835a-608c-4aa4-b464-5f2214c91062",
   "metadata": {
    "jp-MarkdownHeadingCollapsed": true
   },
   "source": [
    "### assume p->q and not q"
   ]
  },
  {
   "cell_type": "code",
   "execution_count": null,
   "id": "cd70e422-da60-4093-b7ee-82b8ea305551",
   "metadata": {},
   "outputs": [],
   "source": [
    "target_knowledge_profile = '0000'\n",
    "target_mistake = 'assume p->q and not q'\n",
    "num_answers = 2\n",
    "num_examples = 5\n",
    "dataset = 2\n",
    "\n",
    "if dataset == 1:\n",
    "    df = df1\n",
    "elif dataset == 2:\n",
    "    df = df2\n",
    "    \n",
    "examples_list = get_answers_for_mistake_and_profile(df, target_knowledge_profile, target_mistake)\n",
    "examples_count = min(num_examples, len(examples_list))\n",
    "example_answers = \"\\n\".join([f\"- {answer}\" for answer in examples_list[:examples_count]])\n",
    "print(\"Example answers: \", example_answers, ' \\n')\n",
    "# construct the prompt \n",
    "prompt = construct_prompt(target_knowledge_profile, target_mistake, num_answers, example_answers)\n",
    "print(\"Prompt: \", prompt, '\\n')\n",
    "\n",
    "n=15"
   ]
  },
  {
   "cell_type": "code",
   "execution_count": null,
   "id": "c859cb10-59b2-45a1-a02f-b809c9a9896a",
   "metadata": {
    "scrolled": true
   },
   "outputs": [],
   "source": [
    "completion = client.chat.completions.create(\n",
    "    model=model,\n",
    "    messages=prompt,\n",
    "    temperature=temperature,\n",
    "    n=n\n",
    ")\n",
    "path = save_completion_with_metadata(completion.to_dict(), prompt, target_knowledge_profile, target_mistake, n, num_answers, temperature, save_dir=save_dir) \n",
    "process_json_to_txt(path, output_dir)"
   ]
  },
  {
   "cell_type": "markdown",
   "id": "82c01f86-b97b-468a-b5c7-c85a5989d7ba",
   "metadata": {
    "jp-MarkdownHeadingCollapsed": true
   },
   "source": [
    "### assume x rational and x^2 irrational (assume not Q and P)"
   ]
  },
  {
   "cell_type": "code",
   "execution_count": null,
   "id": "c0645bf0-c3ba-4101-b4a9-121ce62d0683",
   "metadata": {
    "scrolled": true
   },
   "outputs": [],
   "source": [
    "target_knowledge_profile = '0000'\n",
    "target_mistake = 'assume x rational and x^2 irrational (assume not Q and P)'\n",
    "num_answers = 2\n",
    "num_examples = 5\n",
    "dataset = 2\n",
    "\n",
    "if dataset == 1:\n",
    "    df = df1\n",
    "elif dataset == 2:\n",
    "    df = df2\n",
    "    \n",
    "examples_list = get_answers_for_mistake_and_profile(df, target_knowledge_profile, re.escape(target_mistake))\n",
    "examples_count = min(num_examples, len(examples_list))\n",
    "example_answers = \"\\n\".join([f\"- {answer}\" for answer in examples_list[:examples_count]])\n",
    "print(\"Example answers: \", example_answers, ' \\n')\n",
    "# construct the prompt \n",
    "prompt = construct_prompt(target_knowledge_profile, target_mistake, num_answers, example_answers)\n",
    "print(\"Prompt: \", prompt, '\\n')\n",
    "\n",
    "n=15"
   ]
  },
  {
   "cell_type": "code",
   "execution_count": null,
   "id": "6aa009c1-810a-4f6f-ba98-464f929a35f9",
   "metadata": {
    "scrolled": true
   },
   "outputs": [],
   "source": [
    "completion = client.chat.completions.create(\n",
    "    model=model,\n",
    "    messages=prompt,\n",
    "    temperature=temperature,\n",
    "    n=n\n",
    ")\n",
    "path = save_completion_with_metadata(completion.to_dict(), prompt, target_knowledge_profile, target_mistake, n, num_answers, temperature, save_dir=save_dir) \n",
    "process_json_to_txt(path, output_dir)"
   ]
  },
  {
   "cell_type": "code",
   "execution_count": null,
   "id": "0c653ff6-23b4-4ca2-ac0d-c5305c27efda",
   "metadata": {},
   "outputs": [],
   "source": []
  }
 ],
 "metadata": {
  "kernelspec": {
   "display_name": "Python 3 (ipykernel)",
   "language": "python",
   "name": "python3"
  },
  "language_info": {
   "codemirror_mode": {
    "name": "ipython",
    "version": 3
   },
   "file_extension": ".py",
   "mimetype": "text/x-python",
   "name": "python",
   "nbconvert_exporter": "python",
   "pygments_lexer": "ipython3",
   "version": "3.9.20"
  }
 },
 "nbformat": 4,
 "nbformat_minor": 5
}
