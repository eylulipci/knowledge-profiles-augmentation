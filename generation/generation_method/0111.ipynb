{
 "cells": [
  {
   "cell_type": "code",
   "execution_count": null,
   "id": "6323c2d6-42d0-4746-b3e6-71b595e98962",
   "metadata": {},
   "outputs": [],
   "source": [
    "import pandas as pd\n",
    "from collections import Counter\n",
    "\n",
    "dataset_path = \"path/to/original/data\"\n",
    "df = pd.read_excel(dataset_path, sheet_name='contraposition')\n",
    "\n",
    "# rubrics of the original dataset\n",
    "rubrics = [\n",
    "    'Statement of what should be proven: A proof by contraposition of an implication consists in showing that if x rational, then x^2 is rational. ',\n",
    "    'Correct assumption: x is rational [Assumption] ',\n",
    "    'Correct proof reasoning',\n",
    "    'Proof conclusion: By contraposition, if x^2 is irrational, then x is irrational.'\n",
    "]\n",
    "\n",
    "#knowledge profile column\n",
    "df['Knowledge Profile'] = df[rubrics].astype(str).agg(''.join, axis=1)\n",
    "\n",
    "\n",
    "knowledge_profile_mistakes = {}\n",
    "for _, row in df.iterrows():\n",
    "    knowledge_profile = row['Knowledge Profile']\n",
    "    comments = row['Comments - Eylül']\n",
    "    \n",
    "    if pd.notna(comments):\n",
    "        mistakes = [mistake.strip() for mistake in comments.split(',')]\n",
    "        \n",
    "        if knowledge_profile not in knowledge_profile_mistakes:\n",
    "            knowledge_profile_mistakes[knowledge_profile] = Counter()\n",
    "        \n",
    "        knowledge_profile_mistakes[knowledge_profile].update(mistakes)\n",
    "\n",
    "mistakes_df = pd.DataFrame([\n",
    "    {'Knowledge Profile': kp, 'Mistake': mistake, 'Count': count}\n",
    "    for kp, mistakes in knowledge_profile_mistakes.items()\n",
    "    for mistake, count in mistakes.items()\n",
    "])\n",
    "\n",
    "mistakes_df[mistakes_df['Knowledge Profile'] == '0111']"
   ]
  },
  {
   "cell_type": "markdown",
   "id": "23e33855-8522-4be0-80ef-8a604e85a4ae",
   "metadata": {},
   "source": [
    "## Chosen Mistakes"
   ]
  },
  {
   "cell_type": "markdown",
   "id": "34e6204a-b400-4534-9a61-2724d0f2ff93",
   "metadata": {},
   "source": [
    "- no statement to be proven\n",
    "- not mentioning a and b are integers\n",
    "- not mentioning b != 0\n",
    "- not mentioning a and b have no common factors"
   ]
  },
  {
   "cell_type": "markdown",
   "id": "bece1439-f2d4-4295-8528-cfb8f93ef00f",
   "metadata": {},
   "source": [
    "## Utils"
   ]
  },
  {
   "cell_type": "code",
   "execution_count": null,
   "id": "d6606cff-0707-4c0d-bc76-24d0854e3a2a",
   "metadata": {},
   "outputs": [],
   "source": [
    "knowledge_profiles = {\n",
    "    '1111': \"This knowledge profile represents student answers where the student correctly states what should be proven (rubric 1), makes the correct assumption (rubric 2), follows correct proof reasoning (rubric 3), and correctly concludes the proof (rubric 4). However, minor inconsistencies such as variations in notation or redundant steps may still be present.\",\n",
    "    '0000': \"This knowledge profile represents student answers where the student fails to correctly state what should be proven (rubric 1), does not make the correct assumption (rubric 2), lacks correct proof reasoning (rubric 3), and does not conclude the proof correctly (rubric 4).\",\n",
    "    '1110': \"This knowledge profile represents student answers where the student correctly states what should be proven (rubric 1), makes the correct assumption (rubric 2), and follows correct proof reasoning (rubric 3), but fails to correctly conclude the proof (rubric 4).\",\n",
    "    '0111': \"This knowledge profile represents student answers where the student fails to correctly state what should be proven (rubric 1) but makes the correct assumption (rubric 2), follows correct proof reasoning (rubric 3), and correctly concludes the proof (rubric 4).\",\n",
    "    '0110': \"This knowledge profile represents student answers where the student fails to correctly state what should be proven (rubric 1) but makes the correct assumption (rubric 2) and follows correct proof reasoning (rubric 3), but fails to correctly conclude the proof (rubric 4).\",\n",
    "    '1100': \"This knowledge profile represents student answers where the student correctly states what should be proven (rubric 1) and makes the correct assumption (rubric 2) but does not follow correct proof reasoning (rubric 3) and fails to conclude the proof correctly (rubric 4).\",\n",
    "    '1000': \"This knowledge profile represents student answers where the student correctly states what should be proven (rubric 1) but does not make the correct assumption (rubric 2), lacks correct proof reasoning (rubric 3), and does not conclude the proof correctly (rubric 4).\",\n",
    "    '0100': \"This knowledge profile represents student answers where the student fails to correctly state what should be proven (rubric 1) but makes the correct assumption (rubric 2), while lacking correct proof reasoning (rubric 3) and not concluding the proof correctly (rubric 4).\"\n",
    "    }"
   ]
  },
  {
   "cell_type": "code",
   "execution_count": null,
   "id": "1e3b5ecc-1033-4f8e-806a-b7bebd1afd1f",
   "metadata": {},
   "outputs": [],
   "source": [
    "mistakes = {\n",
    "    'no statement to be proven': \"The student does not clearly state what needs to be proven, omitting the initial setup necessary for the proof by contraposition.\",\n",
    "    'not mentioning a and b have no common factors': \"The student does not mention that a and b have no common factors when defining x as a ratio. While this detail is important for completeness, it is considered a minor oversight, and no points are deducted if the rest of the proof reasoning is correct.\",\n",
    "    'missing conclusion: ending the proof at x\\^2 is rational and not mentioning: by contrapositive p->q': \"The student ends the proof after showing that x^2 is rational and does not mention the contrapositive conclusion (\\\"if x^2 is irrational, then x must be irrational\\\"), leaving the proof incomplete.\",\n",
    "    'not mentioning b != 0': \"The student omits the detail that b != 0 when defining x as a ratio. Although this is an important detail for completeness, it is considered a minor mistake.\",\n",
    "    'not mentioning a and b are integers': \"The student does not explicitly state that a and b are integers when defining x as a ratio. While this detail is important for clarity, it is considered a minor mistake, and no points are deducted if the rest of the proof reasoning is correct.\",\n",
    "    'expressing a\\^2=c and b\\^2=d so x\\^2 = c/d': \"The student introduces new variables (c and d) to express a^2 and b^2 instead of keeping the original variables. This approach is not incorrect but reflects a different style, adding extra complexity to the proof.\",\n",
    "    'contraposition statement as conclusion': \"Instead of properly concluding the proof by linking the contrapositive back to the original statement (e.g., 'if x^2 is irrational, then x is irrational'), the student incorrectly ends the proof by merely stating the contrapositive itself (e.g., 'if x is rational, then x^2 is rational') as the conclusion.\",\n",
    "    'conclusion: x irrational -> x^2 irrational (Q -> P)': \"The student incorrectly concludes the proof with the statement 'if x is irrational, then x^2 is irrational' (Q -> P), where the correct conclusion should relate to 'if x^2 is irrational, then x is irrational.' (P -> Q)\"\n",
    "}"
   ]
  },
  {
   "cell_type": "code",
   "execution_count": null,
   "id": "bdbb39f0-cb79-41b3-9966-2267acb5e8e6",
   "metadata": {},
   "outputs": [],
   "source": [
    "import random\n",
    "random.seed(42)\n",
    "def get_answers_for_mistake_and_profile(df, knowledge_profile, mistake_type, profile_column='Knowledge Profile', mistake_column='Comments - Eylül', answer_column='CONTRAPOSITION task'):\n",
    "    \n",
    "    filtered_df = df[df[profile_column].astype(str) == knowledge_profile]\n",
    "    filtered_df = filtered_df[filtered_df[mistake_column].str.contains(mistake_type, case=False, na=False)]\n",
    "    \n",
    "    answers = filtered_df[answer_column].tolist()\n",
    "    random.shuffle(answers)\n",
    "    \n",
    "    return answers"
   ]
  },
  {
   "cell_type": "code",
   "execution_count": null,
   "id": "3c71f6cc-b188-415a-8106-fc4567e7c991",
   "metadata": {},
   "outputs": [],
   "source": [
    "def construct_prompt(target_knowledge_profile, target_mistake, num_answers, example_answers):\n",
    "\n",
    "    # define generic parts of the prompt\n",
    "    target_knowledge_profile_and_mistake = f\"\"\"\n",
    "        TARGET KNOWLEDGE PROFILE AND MISTAKE:\n",
    "        I want you to generate answers for {num_answers} students with the knowledge profile {target_knowledge_profile}. {knowledge_profiles[target_knowledge_profile]} A common mistake students with this profile make is: {mistakes[target_mistake]}\n",
    "        You will generate student answers with this profile and this mistake.\n",
    "        Please ensure that each answer demonstrates the specified knowledge profile characteristics in addition to the specific mistake. Do not just generate an answer with the mistake and a correct proof otherwise; the answer should reflect both the knowledge profile and the mistake.\n",
    "        The generated answers have to be different and diverse, do not just paraphrase the given examples.\n",
    "        \"\"\"\n",
    "\n",
    "    examples = f\"\"\"\n",
    "        EXAMPLES:\n",
    "        Here are a few real answers from students who made this mistake and have this knowledge profile:\n",
    "        {example_answers}\n",
    "        \"\"\"\n",
    "\n",
    "    messages = [{\"role\": \"system\", \"content\": SYSTEM_ROLE},\n",
    "                {\"role\": \"user\", \"content\": TASK_DESCRIPTION},\n",
    "                {\"role\": \"user\", \"content\": SOLUTION},\n",
    "                {\"role\": \"user\", \"content\": GRADING_RUBRICS},\n",
    "                {\"role\": \"user\", \"content\": KNOWLEDGE_PROFILES_EXPLANATION},\n",
    "                {\"role\": \"user\", \"content\": target_knowledge_profile_and_mistake},\n",
    "                {\"role\": \"user\", \"content\": examples},\n",
    "                {\"role\": \"user\", \"content\": OUTPUT_FORMAT}]\n",
    "    \n",
    "    return messages"
   ]
  },
  {
   "cell_type": "code",
   "execution_count": null,
   "id": "76c20b86-34bb-47b1-b12b-e70dca952a20",
   "metadata": {},
   "outputs": [],
   "source": [
    "import json\n",
    "from datetime import datetime\n",
    "import os\n",
    "def save_completion_with_metadata(completion, prompt_messages, knowledge_profile, mistake_type, n, num_answers, temperature, save_dir):\n",
    "    # Add extra metadata to the completion object\n",
    "    completion[\"metadata\"] = {\n",
    "        \"prompt\": prompt_messages,\n",
    "        \"knowledge_profile\": knowledge_profile,\n",
    "        \"mistake_type\": mistake_type,\n",
    "        \"n_instances\": n,\n",
    "        \"num_answers\": num_answers,\n",
    "        \"temperature\": temperature\n",
    "    }\n",
    "    \n",
    "    # Generate filename with knowledge profile, date, and time\n",
    "    timestamp = datetime.now().strftime(\"%Y%m%d_%H%M%S\")\n",
    "    filename = f\"{knowledge_profile}_{timestamp}.json\"\n",
    "    save_path = os.path.join(save_dir, knowledge_profile, filename)\n",
    "    \n",
    "    os.makedirs(os.path.dirname(save_path), exist_ok=True)\n",
    "    with open(save_path, 'w') as json_file:\n",
    "        json.dump(completion, json_file, indent=4)\n",
    "    return save_path"
   ]
  },
  {
   "cell_type": "code",
   "execution_count": null,
   "id": "fe5343a3-3451-4b12-8a94-7e7a442bb40a",
   "metadata": {},
   "outputs": [],
   "source": [
    "import json\n",
    "import os\n",
    "import re\n",
    "\n",
    "def process_json_to_txt(input_json_path, output_dir):\n",
    "    with open(input_json_path, 'r') as file:\n",
    "        data = json.load(file)\n",
    "\n",
    "    # Extract metadata from the filename\n",
    "    json_filename = os.path.basename(input_json_path)\n",
    "    base_filename = os.path.splitext(json_filename)[0]\n",
    "\n",
    "    for choice_index, choice in enumerate(data.get(\"choices\", [])):\n",
    "        content = choice.get(\"message\", {}).get(\"content\", \"\")\n",
    "\n",
    "        # Split content by '$' to separate each generated instance\n",
    "        instances = content.split('$')\n",
    "        \n",
    "        for idx, instance in enumerate(instances):\n",
    "            if instance.strip():  \n",
    "                # Remove the grade formatted between '&' characters\n",
    "                instance_cleaned = re.sub(r'&.*?&', '', instance).strip()\n",
    "\n",
    "                # Sanitize the mistake name to avoid issues with special characters\n",
    "                mistake_name = data.get(\"metadata\", {}).get(\"mistake_type\", \"unknown_mistake\").replace(' ', '_').replace('/', '_').replace('\\\\', '_').replace(':', '_').replace('>','').replace('\\'', '').replace('__', '_').replace('-', '_').replace('_^', '')[:30] \n",
    "                knowledge_profile = data.get(\"metadata\", {}).get(\"knowledge_profile\", \"unknown_profile\")\n",
    "                instance_dir = os.path.join(output_dir, knowledge_profile, mistake_name)\n",
    "                os.makedirs(instance_dir, exist_ok=True)\n",
    "\n",
    "                output_filename = f\"{base_filename}_{mistake_name}_{choice_index + 1}_{idx + 1}.txt\"\n",
    "                output_path = os.path.join(instance_dir, output_filename)\n",
    "\n",
    "                with open(output_path, 'w', encoding='utf-8') as txt_file:\n",
    "                    txt_file.write(instance_cleaned)\n"
   ]
  },
  {
   "cell_type": "markdown",
   "id": "efe5a04e-a9d5-492a-99f3-9f731f82821f",
   "metadata": {
    "jp-MarkdownHeadingCollapsed": true
   },
   "source": [
    "## Prompt"
   ]
  },
  {
   "cell_type": "code",
   "execution_count": null,
   "id": "f64623c8-0bde-4d25-8013-fa6b6a6519ec",
   "metadata": {},
   "outputs": [],
   "source": [
    "SYSTEM_ROLE = \"\"\"\n",
    "You are a text generator that generates realistic student responses for a proof by contraposition question. Your role is to simulate student answers based on provided knowledge profiles and specific mistakes, which will be explained in more detail along with examples. Avoid including any evaluative language or comments that could bias the responses, as the generated data is used to train classifiers. Maintain a neutral, student-like tone and focus on coherence and clarity in your responses.\n",
    "\"\"\""
   ]
  },
  {
   "cell_type": "code",
   "execution_count": null,
   "id": "8fcf6335-934b-4bbb-a82a-bf7a1e8516e0",
   "metadata": {},
   "outputs": [],
   "source": [
    "TASK_DESCRIPTION = \"\"\"\n",
    "TASK DESCRIPTION:\n",
    "Students are expected to answer this task:\n",
    "\"Let x be a real number. Prove that if x^2 is irrational, then x is irrational using a proof by contraposition.\n",
    "\n",
    "Reminders:\n",
    "- A real number x is irrational if it cannot be expressed as the quotient of two integers - that is, p/q where p and q (both integers) are not zero.\n",
    "- A real number x is rational if it can be expressed as the quotient of two integers - that is, p/q where p and q (both integers) are not zero.\"\n",
    "\"\"\""
   ]
  },
  {
   "cell_type": "code",
   "execution_count": null,
   "id": "afc4f511-d8fb-4f6e-9d47-e412075891e5",
   "metadata": {},
   "outputs": [],
   "source": [
    "SOLUTION = \"\"\"\n",
    "SOLUTION:\n",
    "As a reference, here is the correct solution for this problem:\n",
    "A proof by contraposition of an implication consists in showing that if x is rational, then x^2 is rational.\n",
    "1. x is rational [Assumption]\n",
    "2. x = a/b, where a and b ≠ 0 are integers with no common factors. [Definition of a rational number]\n",
    "3. Therefore, x^2 = a^2/b^2. [Squaring]\n",
    "4. Hence, x^2 is rational. [Definition of a rational number]\n",
    "5. By contraposition, if x^2 is irrational, then x is irrational.\n",
    "\"\"\""
   ]
  },
  {
   "cell_type": "code",
   "execution_count": null,
   "id": "2c5c3560-b098-4663-8f37-7dbf28444b69",
   "metadata": {},
   "outputs": [],
   "source": [
    "GRADING_RUBRICS = \"\"\"\n",
    "GRADING RUBRICS:\n",
    "Students are graded using 4 binary rubrics:\n",
    "1. Statement of what should be proven: A proof by contraposition of an implication consists in showing that if x is rational, then x^2 is rational.\n",
    "2. Correct assumption: x is rational\n",
    "3. Correct proof reasoning\n",
    "4. Proof conclusion: By contraposition, if x^2 is irrational, then x is irrational.\n",
    "\n",
    "It is acceptable if students do not write the exact same answer as the solution. If the response satisfies the rubrics more or less, the student receives the point.\n",
    "\"\"\""
   ]
  },
  {
   "cell_type": "code",
   "execution_count": null,
   "id": "966912fe-b6bb-419b-b747-124129b317ac",
   "metadata": {},
   "outputs": [],
   "source": [
    "KNOWLEDGE_PROFILES_EXPLANATION = \"\"\"\n",
    "KNOWLEDGE PROFILES:\n",
    "We identify a student's knowledge profile based on their score in these 4 rubrics. For example:\n",
    "- A student with all rubrics incorrect will have the profile 0-0-0-0.\n",
    "- A student who has rubric 1 and 2 correct but 3 and 4 incorrect will have the profile 1-1-0-0.\n",
    "\"\"\""
   ]
  },
  {
   "cell_type": "code",
   "execution_count": null,
   "id": "2cd07466-4e0c-406d-9e31-60fcd7c46d49",
   "metadata": {},
   "outputs": [],
   "source": [
    "OUTPUT_FORMAT = \"\"\"\n",
    "DESIRED OUTPUT FORMAT:\n",
    "- Separate each generated student answer with the character \"$\".\n",
    "- Do not include any comments or evaluative language since the data is used to train a classifier.\n",
    "- Words like \"correct\", \"incorrect\", \"right\", \"wrong\", \"correctly\", and \"incorrectly\" are not allowed.\n",
    "- When you generate an answer of a student that has mistakes, you have to act as a student who does not know the correct answer, and does not know that he is answering wrong.\n",
    "- You have to generate an answer that is coherent with the knowledge profile and the specific mistake of the student.\n",
    "- At the end of each answer, include a grade formatted between two \"&\" characters, such as &1111& for a student scoring 1 in all rubrics or &0000& for a student scoring 0 in all. Please evaluate each generated answer based on the rubrics provided, grading it independently of the target knowledge profile specified in this prompt. Do not assume the answer matches the target profile; instead, assess it as if you were grading any student's answer without prior knowledge of the intended profile.\n",
    "- Use the following syntax for formulas:\n",
    "  - To put a to the power of b: (a POWER b) or a^b. Vary the syntax between them.\n",
    "  - To divide a by b, use a/b.\n",
    "- Structure your proof line by line, as shown in the example:\n",
    "\"Show that from p ∧ (p -> q) we can conclude q:\n",
    "1) p ∧ (p -> q)\n",
    "2) p  \n",
    "3) (p -> q) \n",
    "4) q\"\n",
    "\"\"\""
   ]
  },
  {
   "cell_type": "markdown",
   "id": "929a113f-8f8f-43a1-99ca-ad58df7bcd05",
   "metadata": {},
   "source": [
    "## OpenAI Setup"
   ]
  },
  {
   "cell_type": "code",
   "execution_count": null,
   "id": "1e8fadcb-d1ed-4646-9383-0e8bbd20e2fc",
   "metadata": {},
   "outputs": [],
   "source": [
    "key = 'API key'"
   ]
  },
  {
   "cell_type": "code",
   "execution_count": null,
   "id": "d95fec64-cc28-47c6-bdc7-27c8c13bbb3c",
   "metadata": {},
   "outputs": [],
   "source": [
    "from openai import OpenAI\n",
    "\n",
    "OpenAI.api_key = key\n",
    "client = OpenAI(api_key=key)\n",
    "\n",
    "model=\"gpt-4o\"\n",
    "temperature=1"
   ]
  },
  {
   "cell_type": "markdown",
   "id": "fe5c8eb7-c581-4f54-be94-8913403d312d",
   "metadata": {
    "jp-MarkdownHeadingCollapsed": true
   },
   "source": [
    "## Generating Responses for 0111"
   ]
  },
  {
   "cell_type": "code",
   "execution_count": null,
   "id": "0a5a4364-89ed-4483-b8e5-551f96f4eea7",
   "metadata": {},
   "outputs": [],
   "source": [
    "data1_path = 'path/to/original/data'\n",
    "data2_path = 'path/to/kp/dataset/original'\n",
    "\n",
    "save_dir = f'raw_responses/temp_{temperature}'\n",
    "output_dir = f'processed_responses/temp_{temperature}' "
   ]
  },
  {
   "cell_type": "code",
   "execution_count": null,
   "id": "c332d5ce-fdc2-40f5-91c6-61b1413cfe93",
   "metadata": {},
   "outputs": [],
   "source": [
    "import pandas as pd\n",
    "\n",
    "# Load the dataset\n",
    "df1 = pd.read_excel(data1_path, sheet_name='contraposition')\n",
    "df2 = pd.read_excel(data2_path, dtype={'Knowledge Profile': str})\n",
    "\n",
    "# rubrics of the original dataset\n",
    "rubrics = [\n",
    "    'Statement of what should be proven: A proof by contraposition of an implication consists in showing that if x rational, then x^2 is rational. ',\n",
    "    'Correct assumption: x is rational [Assumption] ',\n",
    "    'Correct proof reasoning',\n",
    "    'Proof conclusion: By contraposition, if x^2 is irrational, then x is irrational.'\n",
    "]\n",
    "df1['Knowledge Profile'] = df1[rubrics].astype(str).agg(''.join, axis=1)"
   ]
  },
  {
   "cell_type": "code",
   "execution_count": null,
   "id": "cbae91e6-17c6-410b-b542-fcfc3b56e983",
   "metadata": {
    "scrolled": true
   },
   "outputs": [],
   "source": [
    "target_knowledge_profile = '0111'\n",
    "target_mistake = 'no statement to be proven'\n",
    "num_answers = 2\n",
    "num_examples = 5\n",
    "dataset = 1\n",
    "\n",
    "if dataset == 1:\n",
    "    df = df1\n",
    "elif dataset == 2:\n",
    "    df = df2\n",
    "    \n",
    "examples_list = get_answers_for_mistake_and_profile(df, target_knowledge_profile, target_mistake)\n",
    "examples_count = min(num_examples, len(examples_list))\n",
    "example_answers = \"\\n\".join([f\"- {answer}\" for answer in examples_list[:examples_count]])\n",
    "print(\"Example answers: \", example_answers, ' \\n')\n",
    "# construct the prompt \n",
    "prompt = construct_prompt(target_knowledge_profile, target_mistake, num_answers, example_answers)\n",
    "print(\"Prompt: \", prompt, '\\n')\n",
    "\n",
    "n=15"
   ]
  },
  {
   "cell_type": "code",
   "execution_count": null,
   "id": "da3f85cc-1882-49e3-befb-d9de8fd59af5",
   "metadata": {
    "scrolled": true
   },
   "outputs": [],
   "source": [
    "completion = client.chat.completions.create(\n",
    "    model=model,\n",
    "    messages=prompt,\n",
    "    temperature=temperature,\n",
    "    n=n\n",
    ")\n",
    "path = save_completion_with_metadata(completion.to_dict(), prompt, target_knowledge_profile, target_mistake, n, num_answers, temperature, save_dir=save_dir) \n",
    "process_json_to_txt(path, output_dir)"
   ]
  },
  {
   "cell_type": "code",
   "execution_count": null,
   "id": "e17358ef-ad70-423c-a919-391dce64c729",
   "metadata": {
    "scrolled": true
   },
   "outputs": [],
   "source": [
    "target_knowledge_profile = '0111'\n",
    "target_mistake = 'not mentioning a and b are integers'\n",
    "num_answers = 2\n",
    "num_examples = 5\n",
    "dataset = 1\n",
    "\n",
    "if dataset == 1:\n",
    "    df = df1\n",
    "elif dataset == 2:\n",
    "    df = df2\n",
    "    \n",
    "examples_list = get_answers_for_mistake_and_profile(df, target_knowledge_profile, target_mistake)\n",
    "examples_count = min(num_examples, len(examples_list))\n",
    "example_answers = \"\\n\".join([f\"- {answer}\" for answer in examples_list[:examples_count]])\n",
    "print(\"Example answers: \", example_answers, ' \\n')\n",
    "# construct the prompt \n",
    "prompt = construct_prompt(target_knowledge_profile, target_mistake, num_answers, example_answers)\n",
    "print(\"Prompt: \", prompt, '\\n')\n",
    "\n",
    "n=15"
   ]
  },
  {
   "cell_type": "code",
   "execution_count": null,
   "id": "77a9d35e-643b-474f-99c5-2c2c021659cb",
   "metadata": {
    "scrolled": true
   },
   "outputs": [],
   "source": [
    "completion = client.chat.completions.create(\n",
    "    model=model,\n",
    "    messages=prompt,\n",
    "    temperature=temperature,\n",
    "    n=n\n",
    ")\n",
    "path = save_completion_with_metadata(completion.to_dict(), prompt, target_knowledge_profile, target_mistake, n, num_answers, temperature, save_dir=save_dir) \n",
    "process_json_to_txt(path, output_dir)"
   ]
  },
  {
   "cell_type": "code",
   "execution_count": null,
   "id": "96715e57-ee84-4232-ba80-7cf5ee14dc8e",
   "metadata": {
    "scrolled": true
   },
   "outputs": [],
   "source": [
    "target_knowledge_profile = '0111'\n",
    "target_mistake = 'not mentioning b != 0'\n",
    "num_answers = 2\n",
    "num_examples = 2\n",
    "dataset = 1\n",
    "\n",
    "if dataset == 1:\n",
    "    df = df1\n",
    "elif dataset == 2:\n",
    "    df = df2\n",
    "    \n",
    "examples_list = get_answers_for_mistake_and_profile(df, target_knowledge_profile, target_mistake)\n",
    "examples_count = min(num_examples, len(examples_list))\n",
    "example_answers = \"\\n\".join([f\"- {answer}\" for answer in examples_list[:examples_count]])\n",
    "print(\"Example answers: \", example_answers, ' \\n')\n",
    "# construct the prompt \n",
    "prompt = construct_prompt(target_knowledge_profile, target_mistake, num_answers, example_answers)\n",
    "print(\"Prompt: \", prompt, '\\n')\n",
    "\n",
    "n=15"
   ]
  },
  {
   "cell_type": "code",
   "execution_count": null,
   "id": "8e82aec7-fd79-4702-a29c-31862c390832",
   "metadata": {
    "scrolled": true
   },
   "outputs": [],
   "source": [
    "completion = client.chat.completions.create(\n",
    "    model=model,\n",
    "    messages=prompt,\n",
    "    temperature=temperature,\n",
    "    n=n\n",
    ")\n",
    "path = save_completion_with_metadata(completion.to_dict(), prompt, target_knowledge_profile, target_mistake, n, num_answers, temperature, save_dir=save_dir) \n",
    "process_json_to_txt(path, output_dir)"
   ]
  },
  {
   "cell_type": "code",
   "execution_count": null,
   "id": "54ab112f-087f-410a-9602-ffa1e151a408",
   "metadata": {
    "scrolled": true
   },
   "outputs": [],
   "source": [
    "target_knowledge_profile = '0111'\n",
    "target_mistake = 'not mentioning a and b have no common factors'\n",
    "num_answers = 2\n",
    "num_examples = 3\n",
    "dataset = 1\n",
    "\n",
    "if dataset == 1:\n",
    "    df = df1\n",
    "elif dataset == 2:\n",
    "    df = df2\n",
    "\n",
    "examples_list = get_answers_for_mistake_and_profile(df, target_knowledge_profile, target_mistake)\n",
    "examples_count = min(num_examples, len(examples_list))\n",
    "example_answers = \"\\n\".join([f\"- {answer}\" for answer in examples_list[:examples_count]])\n",
    "print(\"Example answers: \", example_answers, ' \\n')\n",
    "# construct the prompt \n",
    "prompt = construct_prompt(target_knowledge_profile, target_mistake, num_answers, example_answers)\n",
    "print(\"Prompt: \", prompt, '\\n')\n",
    "\n",
    "n=15"
   ]
  },
  {
   "cell_type": "code",
   "execution_count": null,
   "id": "8bf336ed-27f6-4583-a184-497e8157772d",
   "metadata": {
    "scrolled": true
   },
   "outputs": [],
   "source": [
    "completion = client.chat.completions.create(\n",
    "    model=model,\n",
    "    messages=prompt,\n",
    "    temperature=temperature,\n",
    "    n=n\n",
    ")\n",
    "path = save_completion_with_metadata(completion.to_dict(), prompt, target_knowledge_profile, target_mistake, n, num_answers, temperature, save_dir=save_dir) \n",
    "process_json_to_txt(path, output_dir)"
   ]
  },
  {
   "cell_type": "code",
   "execution_count": null,
   "id": "c6365dc8-6fef-4e0b-9b1f-21cb30f48ef2",
   "metadata": {},
   "outputs": [],
   "source": []
  }
 ],
 "metadata": {
  "kernelspec": {
   "display_name": "Python 3 (ipykernel)",
   "language": "python",
   "name": "python3"
  },
  "language_info": {
   "codemirror_mode": {
    "name": "ipython",
    "version": 3
   },
   "file_extension": ".py",
   "mimetype": "text/x-python",
   "name": "python",
   "nbconvert_exporter": "python",
   "pygments_lexer": "ipython3",
   "version": "3.9.20"
  }
 },
 "nbformat": 4,
 "nbformat_minor": 5
}
