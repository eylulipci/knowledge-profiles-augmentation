{
 "cells": [
  {
   "cell_type": "code",
   "execution_count": null,
   "id": "e77e4022-4437-410f-8bf1-7918745eba9a",
   "metadata": {},
   "outputs": [],
   "source": [
    "import pandas as pd\n",
    "from collections import Counter\n",
    "\n",
    "dataset_path = \"path/to/original/data\"\n",
    "df = pd.read_excel(dataset_path, sheet_name='contraposition')\n",
    "\n",
    "# rubrics of the original dataset\n",
    "rubrics = [\n",
    "    'Statement of what should be proven: A proof by contraposition of an implication consists in showing that if x rational, then x^2 is rational. ',\n",
    "    'Correct assumption: x is rational [Assumption] ',\n",
    "    'Correct proof reasoning',\n",
    "    'Proof conclusion: By contraposition, if x^2 is irrational, then x is irrational.'\n",
    "]\n",
    "\n",
    "#knowledge profile column\n",
    "df['Knowledge Profile'] = df[rubrics].astype(str).agg(''.join, axis=1)\n",
    "\n",
    "\n",
    "knowledge_profile_mistakes = {}\n",
    "for _, row in df.iterrows():\n",
    "    knowledge_profile = row['Knowledge Profile']\n",
    "    comments = row['Comments - Eylül']\n",
    "    \n",
    "    if pd.notna(comments):\n",
    "        mistakes = [mistake.strip() for mistake in comments.split(',')]\n",
    "        \n",
    "        if knowledge_profile not in knowledge_profile_mistakes:\n",
    "            knowledge_profile_mistakes[knowledge_profile] = Counter()\n",
    "        \n",
    "        knowledge_profile_mistakes[knowledge_profile].update(mistakes)\n",
    "\n",
    "mistakes_df = pd.DataFrame([\n",
    "    {'Knowledge Profile': kp, 'Mistake': mistake, 'Count': count}\n",
    "    for kp, mistakes in knowledge_profile_mistakes.items()\n",
    "    for mistake, count in mistakes.items()\n",
    "])\n",
    "\n",
    "mistakes_df[mistakes_df['Knowledge Profile'] == '0110']"
   ]
  },
  {
   "cell_type": "code",
   "execution_count": null,
   "id": "fe5af073-a493-4a0d-8c1f-f534ba4571c8",
   "metadata": {},
   "outputs": [],
   "source": [
    "import pandas as pd\n",
    "from collections import Counter\n",
    "\n",
    "dataset_path = \"path/to/kp/dataset/original\"\n",
    "df = pd.read_excel(dataset_path)\n",
    "\n",
    "# rubrics of the original dataset\n",
    "rubrics = [\n",
    "    'Statement of what should be proven: A proof by contraposition of an implication consists in showing that if x rational, then x^2 is rational. ',\n",
    "    'Correct assumption: x is rational [Assumption] ',\n",
    "    'Correct proof reasoning',\n",
    "    'Proof conclusion: By contraposition, if x^2 is irrational, then x is irrational.'\n",
    "]\n",
    "\n",
    "#knowledge profile column\n",
    "df['Knowledge Profile'] = df[rubrics].astype(str).agg(''.join, axis=1)\n",
    "\n",
    "knowledge_profile_mistakes = {}\n",
    "\n",
    "for _, row in df.iterrows():\n",
    "    knowledge_profile = row['Knowledge Profile']\n",
    "    comments = row['Comments - Eylül']\n",
    "    \n",
    "    if pd.notna(comments):\n",
    "        mistakes = [mistake.strip() for mistake in comments.split(',')]\n",
    "        \n",
    "        if knowledge_profile not in knowledge_profile_mistakes:\n",
    "            knowledge_profile_mistakes[knowledge_profile] = Counter()\n",
    "        \n",
    "        knowledge_profile_mistakes[knowledge_profile].update(mistakes)\n",
    "\n",
    "mistakes_df = pd.DataFrame([\n",
    "    {'Knowledge Profile': kp, 'Mistake': mistake, 'Count': count}\n",
    "    for kp, mistakes in knowledge_profile_mistakes.items()\n",
    "    for mistake, count in mistakes.items()\n",
    "])\n",
    "mistakes_df"
   ]
  },
  {
   "cell_type": "markdown",
   "id": "0b4cd5de-58a4-4ddb-820d-e18075f1a521",
   "metadata": {},
   "source": [
    "## Chosen Mistakes"
   ]
  },
  {
   "cell_type": "markdown",
   "id": "180e7521-8d30-4677-901f-0c17c43bc3ae",
   "metadata": {},
   "source": [
    "- no statement to be proven\n",
    "- contraposition statement: not P -> not Q\n",
    "- not mentioning a and b are integers\n",
    "- not mentioning b != 0\t\n",
    "- not mentioning a and b have no common factors\n",
    "- expressing a^2=c and b^2=d so x^2 = c/d\n",
    "- missing conclusion: ending the proof at x^2 is rational and not mentioning: by contrapositive p->q\n",
    "- conclusion: x irrational -> x^2 irrational (Q -> P)\n",
    "- contraposition statement as conclusion"
   ]
  },
  {
   "cell_type": "markdown",
   "id": "c9eaff54-cb2a-4336-b464-78ff8f52e6ed",
   "metadata": {
    "jp-MarkdownHeadingCollapsed": true
   },
   "source": [
    "## Utils"
   ]
  },
  {
   "cell_type": "code",
   "execution_count": null,
   "id": "f00a495c-3bc2-4fd6-b57c-e6990a9d28bd",
   "metadata": {},
   "outputs": [],
   "source": [
    "knowledge_profiles = {\n",
    "    '1111': \"This knowledge profile represents student answers where the student correctly states what should be proven (rubric 1), makes the correct assumption (rubric 2), follows correct proof reasoning (rubric 3), and correctly concludes the proof (rubric 4). However, minor inconsistencies such as variations in notation or redundant steps may still be present.\",\n",
    "    '0000': \"This knowledge profile represents student answers where the student fails to correctly state what should be proven (rubric 1), does not make the correct assumption (rubric 2), lacks correct proof reasoning (rubric 3), and does not conclude the proof correctly (rubric 4).\",\n",
    "    '1110': \"This knowledge profile represents student answers where the student correctly states what should be proven (rubric 1), makes the correct assumption (rubric 2), and follows correct proof reasoning (rubric 3), but fails to correctly conclude the proof (rubric 4).\",\n",
    "    '0111': \"This knowledge profile represents student answers where the student fails to correctly state what should be proven (rubric 1) but makes the correct assumption (rubric 2), follows correct proof reasoning (rubric 3), and correctly concludes the proof (rubric 4).\",\n",
    "    '0110': \"This knowledge profile represents student answers where the student fails to correctly state what should be proven (rubric 1) but makes the correct assumption (rubric 2) and follows correct proof reasoning (rubric 3), but fails to correctly conclude the proof (rubric 4).\",\n",
    "    '1100': \"This knowledge profile represents student answers where the student correctly states what should be proven (rubric 1) and makes the correct assumption (rubric 2) but does not follow correct proof reasoning (rubric 3) and fails to conclude the proof correctly (rubric 4).\",\n",
    "    '1000': \"This knowledge profile represents student answers where the student correctly states what should be proven (rubric 1) but does not make the correct assumption (rubric 2), lacks correct proof reasoning (rubric 3), and does not conclude the proof correctly (rubric 4).\",\n",
    "    '0100': \"This knowledge profile represents student answers where the student fails to correctly state what should be proven (rubric 1) but makes the correct assumption (rubric 2), while lacking correct proof reasoning (rubric 3) and not concluding the proof correctly (rubric 4).\"\n",
    "    }"
   ]
  },
  {
   "cell_type": "code",
   "execution_count": null,
   "id": "8fb51f8d-cfd5-413f-ad96-2b992362d3da",
   "metadata": {},
   "outputs": [],
   "source": [
    "mistakes = {\n",
    "    'no statement to be proven': \"The student does not clearly state what needs to be proven, omitting the initial setup necessary for the proof by contraposition.\",\n",
    "    'contraposition statement: not P -> not Q': \"The student incorrectly states the contrapositive as 'not P implies not Q' (e.g., 'if x^2 is rational, then x is rational') instead of the correct contrapositive form 'not Q implies not P' (e.g., 'if x is rational, then x^2 is rational').\",\n",
    "    'not mentioning a and b have no common factors': \"The student does not mention that a and b have no common factors when defining x as a ratio. While this detail is important for completeness, it is considered a minor oversight, and no points are deducted if the rest of the proof reasoning is correct.\",\n",
    "    'missing conclusion: ending the proof at x\\^2 is rational and not mentioning: by contrapositive p->q': \"The student ends the proof after showing that x^2 is rational and does not mention the contrapositive conclusion (\\\"if x^2 is irrational, then x must be irrational\\\"), leaving the proof incomplete.\",\n",
    "    'not mentioning b != 0': \"The student omits the detail that b != 0 when defining x as a ratio. Although this is an important detail for completeness, it is considered a minor mistake.\",\n",
    "    'not mentioning a and b are integers': \"The student does not explicitly state that a and b are integers when defining x as a ratio. While this detail is important for clarity, it is considered a minor mistake, and no points are deducted if the rest of the proof reasoning is correct.\",\n",
    "    'expressing a\\^2=c and b\\^2=d so x\\^2 = c/d': \"The student introduces new variables (c and d) to express a^2 and b^2 instead of keeping the original variables. This approach is not incorrect but reflects a different style, adding extra complexity to the proof.\",\n",
    "    'contraposition statement as conclusion': \"Instead of properly concluding the proof by linking the contrapositive back to the original statement (e.g., 'if x^2 is irrational, then x is irrational'), the student incorrectly ends the proof by merely stating the contrapositive itself (e.g., 'if x is rational, then x^2 is rational') as the conclusion.\",\n",
    "    'conclusion: x irrational -> x^2 irrational (Q -> P)': \"The student incorrectly concludes the proof with the statement 'if x is irrational, then x^2 is irrational' (Q -> P), where the correct conclusion should relate to 'if x^2 is irrational, then x is irrational.' (P -> Q)\"\n",
    "}"
   ]
  },
  {
   "cell_type": "code",
   "execution_count": null,
   "id": "1bcf14d0-0ba3-46fe-a635-c09fff527e59",
   "metadata": {},
   "outputs": [],
   "source": [
    "import random\n",
    "random.seed(42)\n",
    "def get_answers_for_mistake_and_profile(df, knowledge_profile, mistake_type, profile_column='Knowledge Profile', mistake_column='Comments - Eylül', answer_column='CONTRAPOSITION task'):\n",
    "    \n",
    "    filtered_df = df[df[profile_column].astype(str) == knowledge_profile]\n",
    "    filtered_df = filtered_df[filtered_df[mistake_column].str.contains(mistake_type, case=False, na=False)]\n",
    "    \n",
    "    answers = filtered_df[answer_column].tolist()\n",
    "    random.shuffle(answers)\n",
    "    \n",
    "    return answers"
   ]
  },
  {
   "cell_type": "code",
   "execution_count": null,
   "id": "ff8cc5b9-9aa0-441e-ad3d-8602fbfa6fa9",
   "metadata": {},
   "outputs": [],
   "source": [
    "def construct_prompt(target_knowledge_profile, target_mistake, num_answers, example_answers):\n",
    "\n",
    "    # define generic parts of the prompt\n",
    "    target_knowledge_profile_and_mistake = f\"\"\"\n",
    "        TARGET KNOWLEDGE PROFILE AND MISTAKE:\n",
    "        I want you to generate answers for {num_answers} students with the knowledge profile {target_knowledge_profile}. {knowledge_profiles[target_knowledge_profile]} A common mistake students with this profile make is: {mistakes[target_mistake]}\n",
    "        You will generate student answers with this profile and this mistake.\n",
    "        Please ensure that each answer demonstrates the specified knowledge profile characteristics in addition to the specific mistake. Do not just generate an answer with the mistake and a correct proof otherwise; the answer should reflect both the knowledge profile and the mistake.\n",
    "        The generated answers have to be different and diverse, do not just paraphrase the given examples.\n",
    "        \"\"\"\n",
    "\n",
    "    examples = f\"\"\"\n",
    "        EXAMPLES:\n",
    "        Here are a few real answers from students who made this mistake and have this knowledge profile:\n",
    "        {example_answers}\n",
    "        \"\"\"\n",
    "\n",
    "    messages = [{\"role\": \"system\", \"content\": SYSTEM_ROLE},\n",
    "                {\"role\": \"user\", \"content\": TASK_DESCRIPTION},\n",
    "                {\"role\": \"user\", \"content\": SOLUTION},\n",
    "                {\"role\": \"user\", \"content\": GRADING_RUBRICS},\n",
    "                {\"role\": \"user\", \"content\": KNOWLEDGE_PROFILES_EXPLANATION},\n",
    "                {\"role\": \"user\", \"content\": target_knowledge_profile_and_mistake},\n",
    "                {\"role\": \"user\", \"content\": examples},\n",
    "                {\"role\": \"user\", \"content\": OUTPUT_FORMAT}]\n",
    "    \n",
    "    return messages"
   ]
  },
  {
   "cell_type": "code",
   "execution_count": null,
   "id": "68764195-c545-406b-a0c0-460b11013f33",
   "metadata": {},
   "outputs": [],
   "source": [
    "import json\n",
    "from datetime import datetime\n",
    "import os\n",
    "def save_completion_with_metadata(completion, prompt_messages, knowledge_profile, mistake_type, n, num_answers, temperature, save_dir):\n",
    "    # Add extra metadata to the completion object\n",
    "    completion[\"metadata\"] = {\n",
    "        \"prompt\": prompt_messages,\n",
    "        \"knowledge_profile\": knowledge_profile,\n",
    "        \"mistake_type\": mistake_type,\n",
    "        \"n_instances\": n,\n",
    "        \"num_answers\": num_answers,\n",
    "        \"temperature\": temperature\n",
    "    }\n",
    "    \n",
    "    # Generate filename with knowledge profile, date, and time\n",
    "    timestamp = datetime.now().strftime(\"%Y%m%d_%H%M%S\")\n",
    "    filename = f\"{knowledge_profile}_{timestamp}.json\"\n",
    "    save_path = os.path.join(save_dir, knowledge_profile, filename)\n",
    "    \n",
    "    os.makedirs(os.path.dirname(save_path), exist_ok=True)\n",
    "    with open(save_path, 'w') as json_file:\n",
    "        json.dump(completion, json_file, indent=4)\n",
    "    return save_path"
   ]
  },
  {
   "cell_type": "code",
   "execution_count": null,
   "id": "7815f91f-4960-4104-86dc-6620e7350672",
   "metadata": {},
   "outputs": [],
   "source": [
    "import json\n",
    "import os\n",
    "import re\n",
    "\n",
    "def process_json_to_txt(input_json_path, output_dir):\n",
    "    with open(input_json_path, 'r') as file:\n",
    "        data = json.load(file)\n",
    "\n",
    "    # Extract metadata from the filename\n",
    "    json_filename = os.path.basename(input_json_path)\n",
    "    base_filename = os.path.splitext(json_filename)[0]\n",
    "\n",
    "    for choice_index, choice in enumerate(data.get(\"choices\", [])):\n",
    "        content = choice.get(\"message\", {}).get(\"content\", \"\")\n",
    "\n",
    "        # Split content by '$' to separate each generated instance\n",
    "        instances = content.split('$')\n",
    "        \n",
    "        for idx, instance in enumerate(instances):\n",
    "            if instance.strip():  \n",
    "                # Remove the grade formatted between '&' characters\n",
    "                instance_cleaned = re.sub(r'&.*?&', '', instance).strip()\n",
    "\n",
    "                # Sanitize the mistake name to avoid issues with special characters\n",
    "                mistake_name = data.get(\"metadata\", {}).get(\"mistake_type\", \"unknown_mistake\").replace(' ', '_').replace('/', '_').replace('\\\\', '_').replace(':', '_').replace('>','').replace('\\'', '').replace('__', '_').replace('-', '_').replace('_^', '')[:30] \n",
    "                knowledge_profile = data.get(\"metadata\", {}).get(\"knowledge_profile\", \"unknown_profile\")\n",
    "                instance_dir = os.path.join(output_dir, knowledge_profile, mistake_name)\n",
    "                os.makedirs(instance_dir, exist_ok=True)\n",
    "\n",
    "                output_filename = f\"{base_filename}_{mistake_name}_{choice_index + 1}_{idx + 1}.txt\"\n",
    "                output_path = os.path.join(instance_dir, output_filename)\n",
    "\n",
    "                with open(output_path, 'w', encoding='utf-8') as txt_file:\n",
    "                    txt_file.write(instance_cleaned)\n"
   ]
  },
  {
   "cell_type": "markdown",
   "id": "3f17c29a-e88c-4fcf-b1bd-d43181025869",
   "metadata": {
    "jp-MarkdownHeadingCollapsed": true
   },
   "source": [
    "## Prompt"
   ]
  },
  {
   "cell_type": "code",
   "execution_count": null,
   "id": "349216f9-0a40-40da-bb2c-df4747f34c58",
   "metadata": {},
   "outputs": [],
   "source": [
    "SYSTEM_ROLE = \"\"\"\n",
    "You are a text generator that generates realistic student responses for a proof by contraposition question. Your role is to simulate student answers based on provided knowledge profiles and specific mistakes, which will be explained in more detail along with examples. Avoid including any evaluative language or comments that could bias the responses, as the generated data is used to train classifiers. Maintain a neutral, student-like tone and focus on coherence and clarity in your responses.\n",
    "\"\"\""
   ]
  },
  {
   "cell_type": "code",
   "execution_count": null,
   "id": "3867fcc6-0916-4a84-979f-fb937d0f755c",
   "metadata": {},
   "outputs": [],
   "source": [
    "TASK_DESCRIPTION = \"\"\"\n",
    "TASK DESCRIPTION:\n",
    "Students are expected to answer this task:\n",
    "\"Let x be a real number. Prove that if x^2 is irrational, then x is irrational using a proof by contraposition.\n",
    "\n",
    "Reminders:\n",
    "- A real number x is irrational if it cannot be expressed as the quotient of two integers - that is, p/q where p and q (both integers) are not zero.\n",
    "- A real number x is rational if it can be expressed as the quotient of two integers - that is, p/q where p and q (both integers) are not zero.\"\n",
    "\"\"\""
   ]
  },
  {
   "cell_type": "code",
   "execution_count": null,
   "id": "4c9f2330-5bf3-460b-a48b-2c98579c6cfa",
   "metadata": {},
   "outputs": [],
   "source": [
    "SOLUTION = \"\"\"\n",
    "SOLUTION:\n",
    "As a reference, here is the correct solution for this problem:\n",
    "A proof by contraposition of an implication consists in showing that if x is rational, then x^2 is rational.\n",
    "1. x is rational [Assumption]\n",
    "2. x = a/b, where a and b ≠ 0 are integers with no common factors. [Definition of a rational number]\n",
    "3. Therefore, x^2 = a^2/b^2. [Squaring]\n",
    "4. Hence, x^2 is rational. [Definition of a rational number]\n",
    "5. By contraposition, if x^2 is irrational, then x is irrational.\n",
    "\"\"\""
   ]
  },
  {
   "cell_type": "code",
   "execution_count": null,
   "id": "952d62df-09ac-4709-b80f-5fcef7ae2d0d",
   "metadata": {},
   "outputs": [],
   "source": [
    "GRADING_RUBRICS = \"\"\"\n",
    "GRADING RUBRICS:\n",
    "Students are graded using 4 binary rubrics:\n",
    "1. Statement of what should be proven: A proof by contraposition of an implication consists in showing that if x is rational, then x^2 is rational.\n",
    "2. Correct assumption: x is rational\n",
    "3. Correct proof reasoning\n",
    "4. Proof conclusion: By contraposition, if x^2 is irrational, then x is irrational.\n",
    "\n",
    "It is acceptable if students do not write the exact same answer as the solution. If the response satisfies the rubrics more or less, the student receives the point.\n",
    "\"\"\""
   ]
  },
  {
   "cell_type": "code",
   "execution_count": null,
   "id": "104b07db-0e95-4169-8733-f05616101d7f",
   "metadata": {},
   "outputs": [],
   "source": [
    "KNOWLEDGE_PROFILES_EXPLANATION = \"\"\"\n",
    "KNOWLEDGE PROFILES:\n",
    "We identify a student's knowledge profile based on their score in these 4 rubrics. For example:\n",
    "- A student with all rubrics incorrect will have the profile 0-0-0-0.\n",
    "- A student who has rubric 1 and 2 correct but 3 and 4 incorrect will have the profile 1-1-0-0.\n",
    "\"\"\""
   ]
  },
  {
   "cell_type": "code",
   "execution_count": null,
   "id": "ae2ef76e-4493-4655-8b5e-74769113ac16",
   "metadata": {},
   "outputs": [],
   "source": [
    "OUTPUT_FORMAT = \"\"\"\n",
    "DESIRED OUTPUT FORMAT:\n",
    "- Separate each generated student answer with the character \"$\".\n",
    "- Do not include any comments or evaluative language since the data is used to train a classifier.\n",
    "- Words like \"correct\", \"incorrect\", \"right\", \"wrong\", \"correctly\", and \"incorrectly\" are not allowed.\n",
    "- When you generate an answer of a student that has mistakes, you have to act as a student who does not know the correct answer, and does not know that he is answering wrong.\n",
    "- You have to generate an answer that is coherent with the knowledge profile and the specific mistake of the student.\n",
    "- At the end of each answer, include a grade formatted between two \"&\" characters, such as &1111& for a student scoring 1 in all rubrics or &0000& for a student scoring 0 in all. Please evaluate each generated answer based on the rubrics provided, grading it independently of the target knowledge profile specified in this prompt. Do not assume the answer matches the target profile; instead, assess it as if you were grading any student's answer without prior knowledge of the intended profile.\n",
    "- Use the following syntax for formulas:\n",
    "  - To put a to the power of b: (a POWER b) or a^b. Vary the syntax between them.\n",
    "  - To divide a by b, use a/b.\n",
    "- Structure your proof line by line, as shown in the example:\n",
    "\"Show that from p ∧ (p -> q) we can conclude q:\n",
    "1) p ∧ (p -> q)\n",
    "2) p  \n",
    "3) (p -> q) \n",
    "4) q\"\n",
    "\"\"\""
   ]
  },
  {
   "cell_type": "markdown",
   "id": "fd87b77e-e3f2-4f30-baf8-f982de1bfb93",
   "metadata": {
    "jp-MarkdownHeadingCollapsed": true
   },
   "source": [
    "## OpenAI Setup"
   ]
  },
  {
   "cell_type": "code",
   "execution_count": null,
   "id": "4951f4af-9d99-4dd9-a24d-a507c02b1c95",
   "metadata": {},
   "outputs": [],
   "source": [
    "key = 'API key'"
   ]
  },
  {
   "cell_type": "code",
   "execution_count": null,
   "id": "6f144cd2-a485-4436-8266-86059f7908ee",
   "metadata": {},
   "outputs": [],
   "source": [
    "from openai import OpenAI\n",
    "\n",
    "OpenAI.api_key = key\n",
    "client = OpenAI(api_key=key)\n",
    "\n",
    "model=\"gpt-4o\"\n",
    "temperature=1"
   ]
  },
  {
   "cell_type": "markdown",
   "id": "553a1b27-120f-4b7b-8983-1b2896199479",
   "metadata": {},
   "source": [
    "## Generating Responses for 0110"
   ]
  },
  {
   "cell_type": "code",
   "execution_count": null,
   "id": "4adb783b-e7fd-4ded-a2b5-df4801002f7e",
   "metadata": {},
   "outputs": [],
   "source": [
    "data1_path = 'path/to/original/data'\n",
    "data2_path = 'path/to/kp/dataset/original'\n",
    "\n",
    "save_dir = f'raw_responses/temp_{temperature}'\n",
    "output_dir = f'processed_responses/temp_{temperature}' "
   ]
  },
  {
   "cell_type": "code",
   "execution_count": null,
   "id": "706ec361-5b03-4718-8d2c-c0e3667fbdc4",
   "metadata": {},
   "outputs": [],
   "source": [
    "import pandas as pd\n",
    "\n",
    "# Load the dataset\n",
    "df1 = pd.read_excel(data1_path, sheet_name='contraposition')\n",
    "df2 = pd.read_excel(data2_path, dtype={'Knowledge Profile': str})\n",
    "\n",
    "# rubrics of the original dataset\n",
    "rubrics = [\n",
    "    'Statement of what should be proven: A proof by contraposition of an implication consists in showing that if x rational, then x^2 is rational. ',\n",
    "    'Correct assumption: x is rational [Assumption] ',\n",
    "    'Correct proof reasoning',\n",
    "    'Proof conclusion: By contraposition, if x^2 is irrational, then x is irrational.'\n",
    "]\n",
    "df1['Knowledge Profile'] = df1[rubrics].astype(str).agg(''.join, axis=1)"
   ]
  },
  {
   "cell_type": "markdown",
   "id": "6e34c256-e8b9-401e-b95c-8f9efd436342",
   "metadata": {
    "jp-MarkdownHeadingCollapsed": true
   },
   "source": [
    "### no statement to be proven"
   ]
  },
  {
   "cell_type": "code",
   "execution_count": null,
   "id": "deed17e7-23b2-4510-9712-4ed58f87734c",
   "metadata": {
    "scrolled": true
   },
   "outputs": [],
   "source": [
    "target_knowledge_profile = '0110'\n",
    "target_mistake = 'no statement to be proven'\n",
    "num_answers = 2\n",
    "num_examples = 5\n",
    "dataset = 1\n",
    "\n",
    "if dataset == 1:\n",
    "    df = df1\n",
    "elif dataset == 2:\n",
    "    df = df2\n",
    "\n",
    "examples_list = get_answers_for_mistake_and_profile(df, target_knowledge_profile, target_mistake)\n",
    "examples_count = min(num_examples, len(examples_list))\n",
    "example_answers = \"\\n\".join([f\"- {answer}\" for answer in examples_list[:examples_count]])\n",
    "print(\"Example answers: \", example_answers, ' \\n')\n",
    "# construct the prompt \n",
    "prompt = construct_prompt(target_knowledge_profile, target_mistake, num_answers, example_answers)\n",
    "print(\"Prompt: \", prompt, '\\n')\n",
    "\n",
    "n=15"
   ]
  },
  {
   "cell_type": "code",
   "execution_count": null,
   "id": "e2ed7ee8-5366-47ba-b7fb-a2c5770625d0",
   "metadata": {
    "scrolled": true
   },
   "outputs": [],
   "source": [
    "completion = client.chat.completions.create(\n",
    "    model=model,\n",
    "    messages=prompt,\n",
    "    temperature=temperature,\n",
    "    n=n\n",
    ")\n",
    "path = save_completion_with_metadata(completion.to_dict(), prompt, target_knowledge_profile, target_mistake, n, num_answers, temperature, save_dir=save_dir) \n",
    "process_json_to_txt(path, output_dir)"
   ]
  },
  {
   "cell_type": "markdown",
   "id": "a527c6bc-84d9-47ff-84c8-3f38404715cb",
   "metadata": {
    "jp-MarkdownHeadingCollapsed": true
   },
   "source": [
    "### contraposition statement: not P -> not Q"
   ]
  },
  {
   "cell_type": "code",
   "execution_count": null,
   "id": "1349803d-b327-4f50-8ce9-edff1f23f149",
   "metadata": {
    "scrolled": true
   },
   "outputs": [],
   "source": [
    "target_knowledge_profile = '0110'\n",
    "target_mistake = 'contraposition statement: not P -> not Q'\n",
    "num_answers = 2\n",
    "num_examples = 5\n",
    "dataset = 2\n",
    "\n",
    "if dataset == 1:\n",
    "    df = df1\n",
    "elif dataset == 2:\n",
    "    df = df2\n",
    "\n",
    "examples_list = get_answers_for_mistake_and_profile(df, target_knowledge_profile, target_mistake)\n",
    "examples_count = min(num_examples, len(examples_list))\n",
    "example_answers = \"\\n\".join([f\"- {answer}\" for answer in examples_list[:examples_count]])\n",
    "print(\"Example answers: \", example_answers, ' \\n')\n",
    "# construct the prompt \n",
    "prompt = construct_prompt(target_knowledge_profile, target_mistake, num_answers, example_answers)\n",
    "print(\"Prompt: \", prompt, '\\n')\n",
    "\n",
    "n=15"
   ]
  },
  {
   "cell_type": "code",
   "execution_count": null,
   "id": "ff62e822-60dd-4d64-8792-c0b54b8891e3",
   "metadata": {
    "scrolled": true
   },
   "outputs": [],
   "source": [
    "completion = client.chat.completions.create(\n",
    "    model=model,\n",
    "    messages=prompt,\n",
    "    temperature=temperature,\n",
    "    n=n\n",
    ")\n",
    "path = save_completion_with_metadata(completion.to_dict(), prompt, target_knowledge_profile, target_mistake, n, num_answers, temperature, save_dir=save_dir) \n",
    "process_json_to_txt(path, output_dir)"
   ]
  },
  {
   "cell_type": "markdown",
   "id": "7351c2f1-97a0-453d-8a6d-9c622fb6c0ff",
   "metadata": {
    "jp-MarkdownHeadingCollapsed": true
   },
   "source": [
    "### not mentioning a and b are integers"
   ]
  },
  {
   "cell_type": "code",
   "execution_count": null,
   "id": "1194a2b7-cda4-41a7-a9e1-29390fdf0912",
   "metadata": {
    "scrolled": true
   },
   "outputs": [],
   "source": [
    "target_knowledge_profile = '0110'\n",
    "target_mistake = 'not mentioning a and b are integers'\n",
    "num_answers = 2\n",
    "num_examples = 3\n",
    "dataset = 1\n",
    "\n",
    "if dataset == 1:\n",
    "    df = df1\n",
    "elif dataset == 2:\n",
    "    df = df2\n",
    "\n",
    "examples_list = get_answers_for_mistake_and_profile(df, target_knowledge_profile, target_mistake)\n",
    "examples_count = min(num_examples, len(examples_list))\n",
    "example_answers = \"\\n\".join([f\"- {answer}\" for answer in examples_list[:examples_count]])\n",
    "print(\"Example answers: \", example_answers, ' \\n')\n",
    "# construct the prompt \n",
    "prompt = construct_prompt(target_knowledge_profile, target_mistake, num_answers, example_answers)\n",
    "print(\"Prompt: \", prompt, '\\n')\n",
    "\n",
    "n=15"
   ]
  },
  {
   "cell_type": "code",
   "execution_count": null,
   "id": "62ec4788-1b38-48d1-a89e-7e584b587195",
   "metadata": {
    "scrolled": true
   },
   "outputs": [],
   "source": [
    "completion = client.chat.completions.create(\n",
    "    model=model,\n",
    "    messages=prompt,\n",
    "    temperature=temperature,\n",
    "    n=n\n",
    ")\n",
    "path = save_completion_with_metadata(completion.to_dict(), prompt, target_knowledge_profile, target_mistake, n, num_answers, temperature, save_dir=save_dir) \n",
    "process_json_to_txt(path, output_dir)"
   ]
  },
  {
   "cell_type": "markdown",
   "id": "38988327-112a-48f4-8384-c3d2cc2dc43e",
   "metadata": {
    "jp-MarkdownHeadingCollapsed": true
   },
   "source": [
    "### not mentioning b != 0"
   ]
  },
  {
   "cell_type": "code",
   "execution_count": null,
   "id": "4362519f-2d11-4730-b1d2-9bbc4f6956e9",
   "metadata": {
    "scrolled": true
   },
   "outputs": [],
   "source": [
    "target_knowledge_profile = '0110'\n",
    "target_mistake = 'not mentioning b != 0'\n",
    "num_answers = 2\n",
    "num_examples = 5\n",
    "dataset = 1\n",
    "\n",
    "if dataset == 1:\n",
    "    df = df1\n",
    "elif dataset == 2:\n",
    "    df = df2\n",
    "\n",
    "examples_list = get_answers_for_mistake_and_profile(df, target_knowledge_profile, target_mistake)\n",
    "examples_count = min(num_examples, len(examples_list))\n",
    "example_answers = \"\\n\".join([f\"- {answer}\" for answer in examples_list[:examples_count]])\n",
    "print(\"Example answers: \", example_answers, ' \\n')\n",
    "# construct the prompt \n",
    "prompt = construct_prompt(target_knowledge_profile, target_mistake, num_answers, example_answers)\n",
    "print(\"Prompt: \", prompt, '\\n')\n",
    "\n",
    "n=15"
   ]
  },
  {
   "cell_type": "code",
   "execution_count": null,
   "id": "43d15fba-cb19-40bd-ac0d-92af008c9154",
   "metadata": {
    "scrolled": true
   },
   "outputs": [],
   "source": [
    "completion = client.chat.completions.create(\n",
    "    model=model,\n",
    "    messages=prompt,\n",
    "    temperature=temperature,\n",
    "    n=n\n",
    ")\n",
    "path = save_completion_with_metadata(completion.to_dict(), prompt, target_knowledge_profile, target_mistake, n, num_answers, temperature, save_dir=save_dir) \n",
    "process_json_to_txt(path, output_dir)"
   ]
  },
  {
   "cell_type": "markdown",
   "id": "101146bd-7940-43bc-a1b2-adc1bbc806b5",
   "metadata": {
    "jp-MarkdownHeadingCollapsed": true
   },
   "source": [
    "### not mentioning a and b have no common factors"
   ]
  },
  {
   "cell_type": "code",
   "execution_count": null,
   "id": "099af352-f009-41e8-b367-99b40d23fd47",
   "metadata": {
    "scrolled": true
   },
   "outputs": [],
   "source": [
    "target_knowledge_profile = '0110'\n",
    "target_mistake = 'not mentioning a and b have no common factors'\n",
    "num_answers = 2\n",
    "num_examples = 5\n",
    "dataset = 1\n",
    "\n",
    "if dataset == 1:\n",
    "    df = df1\n",
    "elif dataset == 2:\n",
    "    df = df2\n",
    "\n",
    "examples_list = get_answers_for_mistake_and_profile(df, target_knowledge_profile, target_mistake)\n",
    "examples_count = min(num_examples, len(examples_list))\n",
    "example_answers = \"\\n\".join([f\"- {answer}\" for answer in examples_list[:examples_count]])\n",
    "print(\"Example answers: \", example_answers, ' \\n')\n",
    "# construct the prompt \n",
    "prompt = construct_prompt(target_knowledge_profile, target_mistake, num_answers, example_answers)\n",
    "print(\"Prompt: \", prompt, '\\n')\n",
    "\n",
    "n=15"
   ]
  },
  {
   "cell_type": "code",
   "execution_count": null,
   "id": "30bc44f1-f91f-4683-a7a6-8e4ae8e914ed",
   "metadata": {
    "scrolled": true
   },
   "outputs": [],
   "source": [
    "completion = client.chat.completions.create(\n",
    "    model=model,\n",
    "    messages=prompt,\n",
    "    temperature=temperature,\n",
    "    n=n\n",
    ")\n",
    "path = save_completion_with_metadata(completion.to_dict(), prompt, target_knowledge_profile, target_mistake, n, num_answers, temperature, save_dir=save_dir) \n",
    "process_json_to_txt(path, output_dir)"
   ]
  },
  {
   "cell_type": "markdown",
   "id": "db9311eb-904e-4d74-b9f4-53bc0ca23a70",
   "metadata": {
    "jp-MarkdownHeadingCollapsed": true
   },
   "source": [
    "### expressing a\\^2=c and b\\^2=d so x\\^2 = c/d"
   ]
  },
  {
   "cell_type": "code",
   "execution_count": null,
   "id": "e7ac36f7-2757-4201-a001-3ab7a44acb89",
   "metadata": {
    "scrolled": true
   },
   "outputs": [],
   "source": [
    "target_knowledge_profile = '0110'\n",
    "target_mistake = 'expressing a\\^2=c and b\\^2=d so x\\^2 = c/d'\n",
    "num_answers = 2\n",
    "num_examples = 3\n",
    "dataset = 1\n",
    "\n",
    "if dataset == 1:\n",
    "    df = df1\n",
    "elif dataset == 2:\n",
    "    df = df2\n",
    "\n",
    "examples_list = get_answers_for_mistake_and_profile(df, target_knowledge_profile, target_mistake)\n",
    "examples_count = min(num_examples, len(examples_list))\n",
    "example_answers = \"\\n\".join([f\"- {answer}\" for answer in examples_list[:examples_count]])\n",
    "print(\"Example answers: \", example_answers, ' \\n')\n",
    "# construct the prompt \n",
    "prompt = construct_prompt(target_knowledge_profile, target_mistake, num_answers, example_answers)\n",
    "print(\"Prompt: \", prompt, '\\n')\n",
    "\n",
    "n=15"
   ]
  },
  {
   "cell_type": "code",
   "execution_count": null,
   "id": "8e61552a-1774-462c-ae1f-e43d0b315d4a",
   "metadata": {
    "scrolled": true
   },
   "outputs": [],
   "source": [
    "completion = client.chat.completions.create(\n",
    "    model=model,\n",
    "    messages=prompt,\n",
    "    temperature=temperature,\n",
    "    n=n\n",
    ")\n",
    "path = save_completion_with_metadata(completion.to_dict(), prompt, target_knowledge_profile, target_mistake, n, num_answers, temperature, save_dir=save_dir) \n",
    "process_json_to_txt(path, output_dir)"
   ]
  },
  {
   "cell_type": "markdown",
   "id": "6b3d13b0-9992-4fe5-b317-0431e029caf9",
   "metadata": {
    "jp-MarkdownHeadingCollapsed": true
   },
   "source": [
    "### missing conclusion: ending the proof at x^2 is rational and not mentioning: by contrapositive p->q"
   ]
  },
  {
   "cell_type": "code",
   "execution_count": null,
   "id": "40ee14f4-0668-475a-afb7-d6d62dc84ae9",
   "metadata": {
    "scrolled": true
   },
   "outputs": [],
   "source": [
    "target_knowledge_profile = '0110'\n",
    "target_mistake = 'missing conclusion: ending the proof at x\\^2 is rational and not mentioning: by contrapositive p->q'\n",
    "num_answers = 2\n",
    "num_examples = 5\n",
    "dataset = 1\n",
    "\n",
    "if dataset == 1:\n",
    "    df = df1\n",
    "elif dataset == 2:\n",
    "    df = df2\n",
    "\n",
    "examples_list = get_answers_for_mistake_and_profile(df, target_knowledge_profile, target_mistake)\n",
    "examples_count = min(num_examples, len(examples_list))\n",
    "example_answers = \"\\n\".join([f\"- {answer}\" for answer in examples_list[:examples_count]])\n",
    "print(\"Example answers: \", example_answers, ' \\n')\n",
    "# construct the prompt \n",
    "prompt = construct_prompt(target_knowledge_profile, target_mistake, num_answers, example_answers)\n",
    "print(\"Prompt: \", prompt, '\\n')\n",
    "\n",
    "n=15"
   ]
  },
  {
   "cell_type": "code",
   "execution_count": null,
   "id": "00299cf5-480b-40e9-bcc5-4a709ebc169e",
   "metadata": {
    "scrolled": true
   },
   "outputs": [],
   "source": [
    "completion = client.chat.completions.create(\n",
    "    model=model,\n",
    "    messages=prompt,\n",
    "    temperature=temperature,\n",
    "    n=n\n",
    ")\n",
    "path = save_completion_with_metadata(completion.to_dict(), prompt, target_knowledge_profile, target_mistake, n, num_answers, temperature, save_dir=save_dir) \n",
    "process_json_to_txt(path, output_dir)"
   ]
  },
  {
   "cell_type": "markdown",
   "id": "6902b097-3b61-46f1-a7ab-ec859f88750c",
   "metadata": {
    "jp-MarkdownHeadingCollapsed": true
   },
   "source": [
    "### conclusion: x irrational -> x^2 irrational (Q -> P)"
   ]
  },
  {
   "cell_type": "code",
   "execution_count": null,
   "id": "5b505f8c-3792-446f-b0e8-35919a5e8624",
   "metadata": {
    "scrolled": true
   },
   "outputs": [],
   "source": [
    "target_knowledge_profile = '0110'\n",
    "target_mistake = 'conclusion: x irrational -> x^2 irrational (Q -> P)'\n",
    "num_answers = 2\n",
    "num_examples = 5\n",
    "dataset = 2\n",
    "\n",
    "if dataset == 1:\n",
    "    df = df1\n",
    "elif dataset == 2:\n",
    "    df = df2\n",
    "\n",
    "examples_list = get_answers_for_mistake_and_profile(df, target_knowledge_profile, re.escape(target_mistake))\n",
    "examples_count = min(num_examples, len(examples_list))\n",
    "example_answers = \"\\n\".join([f\"- {answer}\" for answer in examples_list[:examples_count]])\n",
    "print(\"Example answers: \", example_answers, ' \\n')\n",
    "# construct the prompt \n",
    "prompt = construct_prompt(target_knowledge_profile, target_mistake, num_answers, example_answers)\n",
    "print(\"Prompt: \", prompt, '\\n')\n",
    "\n",
    "n=15"
   ]
  },
  {
   "cell_type": "code",
   "execution_count": null,
   "id": "5d101bac-fe1c-47f0-a94e-8fec8ff3694c",
   "metadata": {
    "scrolled": true
   },
   "outputs": [],
   "source": [
    "completion = client.chat.completions.create(\n",
    "    model=model,\n",
    "    messages=prompt,\n",
    "    temperature=temperature,\n",
    "    n=n\n",
    ")\n",
    "path = save_completion_with_metadata(completion.to_dict(), prompt, target_knowledge_profile, target_mistake, n, num_answers, temperature, save_dir=save_dir) \n",
    "process_json_to_txt(path, output_dir)"
   ]
  },
  {
   "cell_type": "markdown",
   "id": "308c5846-ca93-4580-abe5-1ddd00be323b",
   "metadata": {
    "jp-MarkdownHeadingCollapsed": true
   },
   "source": [
    "### contraposition statement as conclusion"
   ]
  },
  {
   "cell_type": "code",
   "execution_count": null,
   "id": "197a6b87-9276-42cc-9fd3-4eba08ed6dbd",
   "metadata": {
    "scrolled": true
   },
   "outputs": [],
   "source": [
    "target_knowledge_profile = '0110'\n",
    "target_mistake = 'contraposition statement as conclusion'\n",
    "num_answers = 2\n",
    "num_examples = 5\n",
    "dataset = 2\n",
    "\n",
    "if dataset == 1:\n",
    "    df = df1\n",
    "elif dataset == 2:\n",
    "    df = df2\n",
    "\n",
    "examples_list = get_answers_for_mistake_and_profile(df, target_knowledge_profile, target_mistake)\n",
    "examples_count = min(num_examples, len(examples_list))\n",
    "example_answers = \"\\n\".join([f\"- {answer}\" for answer in examples_list[:examples_count]])\n",
    "print(\"Example answers: \", example_answers, ' \\n')\n",
    "# construct the prompt \n",
    "prompt = construct_prompt(target_knowledge_profile, target_mistake, num_answers, example_answers)\n",
    "print(\"Prompt: \", prompt, '\\n')\n",
    "\n",
    "n=15"
   ]
  },
  {
   "cell_type": "code",
   "execution_count": null,
   "id": "4673ad5e-ccee-42cc-a6d2-61fbd5a613db",
   "metadata": {
    "scrolled": true
   },
   "outputs": [],
   "source": [
    "completion = client.chat.completions.create(\n",
    "    model=model,\n",
    "    messages=prompt,\n",
    "    temperature=temperature,\n",
    "    n=n\n",
    ")\n",
    "path = save_completion_with_metadata(completion.to_dict(), prompt, target_knowledge_profile, target_mistake, n, num_answers, temperature, save_dir=save_dir) \n",
    "process_json_to_txt(path, output_dir)"
   ]
  },
  {
   "cell_type": "code",
   "execution_count": null,
   "id": "b36cafa6-7e78-4948-a574-732ef0362c74",
   "metadata": {},
   "outputs": [],
   "source": []
  }
 ],
 "metadata": {
  "kernelspec": {
   "display_name": "Python 3 (ipykernel)",
   "language": "python",
   "name": "python3"
  },
  "language_info": {
   "codemirror_mode": {
    "name": "ipython",
    "version": 3
   },
   "file_extension": ".py",
   "mimetype": "text/x-python",
   "name": "python",
   "nbconvert_exporter": "python",
   "pygments_lexer": "ipython3",
   "version": "3.9.20"
  }
 },
 "nbformat": 4,
 "nbformat_minor": 5
}
