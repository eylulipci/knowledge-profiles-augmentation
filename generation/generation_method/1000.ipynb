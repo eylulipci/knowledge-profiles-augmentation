{
 "cells": [
  {
   "cell_type": "code",
   "execution_count": null,
   "id": "b4c8dcf7-9369-4f99-b928-60925d460c6d",
   "metadata": {},
   "outputs": [],
   "source": [
    "import pandas as pd\n",
    "from collections import Counter\n",
    "\n",
    "dataset_path = \"path/to/original/data\"\n",
    "df = pd.read_excel(dataset_path, sheet_name='contraposition')\n",
    "\n",
    "# rubrics of the original dataset\n",
    "rubrics = [\n",
    "    'Statement of what should be proven: A proof by contraposition of an implication consists in showing that if x rational, then x^2 is rational. ',\n",
    "    'Correct assumption: x is rational [Assumption] ',\n",
    "    'Correct proof reasoning',\n",
    "    'Proof conclusion: By contraposition, if x^2 is irrational, then x is irrational.'\n",
    "]\n",
    "\n",
    "#knowledge profile column\n",
    "df['Knowledge Profile'] = df[rubrics].astype(str).agg(''.join, axis=1)\n",
    "\n",
    "\n",
    "knowledge_profile_mistakes = {}\n",
    "for _, row in df.iterrows():\n",
    "    knowledge_profile = row['Knowledge Profile']\n",
    "    comments = row['Comments - Eylül']\n",
    "    \n",
    "    if pd.notna(comments):\n",
    "        mistakes = [mistake.strip() for mistake in comments.split(',')]\n",
    "        \n",
    "        if knowledge_profile not in knowledge_profile_mistakes:\n",
    "            knowledge_profile_mistakes[knowledge_profile] = Counter()\n",
    "        \n",
    "        knowledge_profile_mistakes[knowledge_profile].update(mistakes)\n",
    "\n",
    "mistakes_df = pd.DataFrame([\n",
    "    {'Knowledge Profile': kp, 'Mistake': mistake, 'Count': count}\n",
    "    for kp, mistakes in knowledge_profile_mistakes.items()\n",
    "    for mistake, count in mistakes.items()\n",
    "])\n",
    "\n",
    "mistakes_df[mistakes_df['Knowledge Profile'] == '1000']"
   ]
  },
  {
   "cell_type": "code",
   "execution_count": null,
   "id": "d8d64de1-7c24-4a4f-a4be-b63c7b8ebe43",
   "metadata": {},
   "outputs": [],
   "source": [
    "import pandas as pd\n",
    "from collections import Counter\n",
    "\n",
    "dataset_path = \"path/to/kp/dataset/original\"\n",
    "df = pd.read_excel(dataset_path)\n",
    "\n",
    "# rubrics of the original dataset\n",
    "rubrics = [\n",
    "    'Statement of what should be proven: A proof by contraposition of an implication consists in showing that if x rational, then x^2 is rational. ',\n",
    "    'Correct assumption: x is rational [Assumption] ',\n",
    "    'Correct proof reasoning',\n",
    "    'Proof conclusion: By contraposition, if x^2 is irrational, then x is irrational.'\n",
    "]\n",
    "\n",
    "#knowledge profile column\n",
    "df['Knowledge Profile'] = df[rubrics].astype(str).agg(''.join, axis=1)\n",
    "\n",
    "knowledge_profile_mistakes = {}\n",
    "\n",
    "for _, row in df.iterrows():\n",
    "    knowledge_profile = row['Knowledge Profile']\n",
    "    comments = row['Comments - Eylül']\n",
    "    \n",
    "    if pd.notna(comments):\n",
    "        mistakes = [mistake.strip() for mistake in comments.split(',')]\n",
    "        \n",
    "        if knowledge_profile not in knowledge_profile_mistakes:\n",
    "            knowledge_profile_mistakes[knowledge_profile] = Counter()\n",
    "        \n",
    "        knowledge_profile_mistakes[knowledge_profile].update(mistakes)\n",
    "\n",
    "mistakes_df = pd.DataFrame([\n",
    "    {'Knowledge Profile': kp, 'Mistake': mistake, 'Count': count}\n",
    "    for kp, mistakes in knowledge_profile_mistakes.items()\n",
    "    for mistake, count in mistakes.items()\n",
    "])\n",
    "mistakes_df"
   ]
  },
  {
   "cell_type": "markdown",
   "id": "9a4942c4-c308-4bcb-82bc-883a8279c05f",
   "metadata": {},
   "source": [
    "## Chosen Mistakes"
   ]
  },
  {
   "cell_type": "markdown",
   "id": "d3a04a25-b7f0-4610-9352-cf99e57b52bb",
   "metadata": {},
   "source": [
    "- missing assumption\n",
    "- assume x^2 is rational\n",
    "- assume p->q and not q\n",
    "- assume x irrational\n",
    "- assuming p -> q"
   ]
  },
  {
   "cell_type": "markdown",
   "id": "ebd52928-b52d-43c5-928b-568e3c7d0686",
   "metadata": {},
   "source": [
    "## Utils"
   ]
  },
  {
   "cell_type": "code",
   "execution_count": null,
   "id": "e33bcc4e-c33d-4e65-8361-4b63a643a310",
   "metadata": {},
   "outputs": [],
   "source": [
    "knowledge_profiles = {\n",
    "    '1111': \"This knowledge profile represents student answers where the student correctly states what should be proven (rubric 1), makes the correct assumption (rubric 2), follows correct proof reasoning (rubric 3), and correctly concludes the proof (rubric 4). However, minor inconsistencies such as variations in notation or redundant steps may still be present.\",\n",
    "    '0000': \"This knowledge profile represents student answers where the student fails to correctly state what should be proven (rubric 1), does not make the correct assumption (rubric 2), lacks correct proof reasoning (rubric 3), and does not conclude the proof correctly (rubric 4).\",\n",
    "    '1110': \"This knowledge profile represents student answers where the student correctly states what should be proven (rubric 1), makes the correct assumption (rubric 2), and follows correct proof reasoning (rubric 3), but fails to correctly conclude the proof (rubric 4).\",\n",
    "    '0111': \"This knowledge profile represents student answers where the student fails to correctly state what should be proven (rubric 1) but makes the correct assumption (rubric 2), follows correct proof reasoning (rubric 3), and correctly concludes the proof (rubric 4).\",\n",
    "    '0110': \"This knowledge profile represents student answers where the student fails to correctly state what should be proven (rubric 1) but makes the correct assumption (rubric 2) and follows correct proof reasoning (rubric 3), but fails to correctly conclude the proof (rubric 4).\",\n",
    "    '1100': \"This knowledge profile represents student answers where the student correctly states what should be proven (rubric 1) and makes the correct assumption (rubric 2) but does not follow correct proof reasoning (rubric 3) and fails to conclude the proof correctly (rubric 4).\",\n",
    "    '1000': \"This knowledge profile represents student answers where the student correctly states what should be proven (rubric 1) but does not make the correct assumption (rubric 2), lacks correct proof reasoning (rubric 3), and does not conclude the proof correctly (rubric 4).\",\n",
    "    '0100': \"This knowledge profile represents student answers where the student fails to correctly state what should be proven (rubric 1) but makes the correct assumption (rubric 2), while lacking correct proof reasoning (rubric 3) and not concluding the proof correctly (rubric 4).\"\n",
    "    }"
   ]
  },
  {
   "cell_type": "code",
   "execution_count": null,
   "id": "917c75b5-28df-47e0-bda2-44758110d68b",
   "metadata": {},
   "outputs": [],
   "source": [
    "mistakes = {\n",
    "    'missing assumption': \"The student does not state the assumption required for the proof by contraposition (i.e., 'assume x is rational'). Without this assumption, it is typically impossible to proceed with the proof, resulting in an incomplete or invalid argument.\",\n",
    "    'assuming p -> q': \"The student incorrectly assumes the statement 'if x^2 is irrational, then x is irrational' (P -> Q) as given, rather than proving it using contraposition.\",\n",
    "    'no statement to be proven': \"The student does not clearly state what needs to be proven, omitting the initial setup necessary for the proof by contraposition.\",\n",
    "    'assume x\\^2 is rational': \"The student incorrectly assumes x^2 is rational instead of assuming x is rational, which leads them to misapply the proof technique from the beginning.\",\n",
    "    'contrapositive statement: not Q -> P': \"The student misstates the contrapositive as 'not Q implies P' (i.e., 'if x is rational, then x^2 is irrational') instead of the correct contrapositive form 'not Q implies not P' (i.e., 'if x is rational, then x^2 is rational').\",\n",
    "    'contraposition statement: not P -> not Q': \"The student incorrectly states the contrapositive as 'not P implies not Q' (e.g., 'if x^2 is rational, then x is rational') instead of the correct contrapositive form 'not Q implies not P' (e.g., 'if x is rational, then x^2 is rational').\",\n",
    "    'assume x irrational': \"The student incorrectly assumes that x is irrational instead of assuming x is rational, which is required for a proof by contraposition. This mistake leads to a flawed setup that prevents the correct logical progression of the proof.\",\n",
    "    'contrapositive statement: Q -> P': \"The student incorrectly states the contrapositive as 'Q implies P' (e.g., 'if x is irrational, then x^2 is irrational') instead of the correct contrapositive form 'not Q implies not P' (e.g., 'if x is rational, then x^2 is rational').\",\n",
    "    'assume x\\^2 irrational': \"The student incorrectly assumes that x^2 is irrational instead of assuming x is rational, which is required for a proof by contraposition. This mistake leads to a flawed setup that prevents the correct logical progression of the proof.\",\n",
    "    'assume x rational and x^2 irrational (assume not Q and P)': \"The student incorrectly assumes both x^2 is irrational (P) and x is rational (not Q). This conflicts with the logical framework of contraposition, which requires assuming not Q (x is rational) to prove not P (x^2 is rational).\",\n",
    "    'assume p->q and not q': \"The student incorrectly assumes both the statement P -> Q ('if x^2 is irrational, then x is irrational') and not Q ('x is rational') as starting points for the proof by contraposition. This shows a misunderstanding of the purpose of contraposition, which is to prove P -> Q by assuming not Q and deriving not P, rather than taking P -> Q as already true.\"\n",
    "\n",
    "}"
   ]
  },
  {
   "cell_type": "code",
   "execution_count": null,
   "id": "714ffdbd-0cad-4116-bfce-b088a1879823",
   "metadata": {},
   "outputs": [],
   "source": [
    "import random\n",
    "random.seed(42)\n",
    "def get_answers_for_mistake_and_profile(df, knowledge_profile, mistake_type, profile_column='Knowledge Profile', mistake_column='Comments - Eylül', answer_column='CONTRAPOSITION task'):\n",
    "    \n",
    "    filtered_df = df[df[profile_column].astype(str) == knowledge_profile]\n",
    "    filtered_df = filtered_df[filtered_df[mistake_column].str.contains(mistake_type, case=False, na=False)]\n",
    "    \n",
    "    answers = filtered_df[answer_column].tolist()\n",
    "    random.shuffle(answers)\n",
    "    \n",
    "    return answers"
   ]
  },
  {
   "cell_type": "code",
   "execution_count": null,
   "id": "22d63c57-6765-4077-a08c-baf8141e06ee",
   "metadata": {},
   "outputs": [],
   "source": [
    "def construct_prompt(target_knowledge_profile, target_mistake, num_answers, example_answers):\n",
    "\n",
    "    # define generic parts of the prompt\n",
    "    target_knowledge_profile_and_mistake = f\"\"\"\n",
    "        TARGET KNOWLEDGE PROFILE AND MISTAKE:\n",
    "        I want you to generate answers for {num_answers} students with the knowledge profile {target_knowledge_profile}. {knowledge_profiles[target_knowledge_profile]} A common mistake students with this profile make is: {mistakes[target_mistake]}\n",
    "        You will generate student answers with this profile and this mistake.\n",
    "        Please ensure that each answer demonstrates the specified knowledge profile characteristics in addition to the specific mistake. Do not just generate an answer with the mistake and a correct proof otherwise; the answer should reflect both the knowledge profile and the mistake.\n",
    "        The generated answers have to be different and diverse, do not just paraphrase the given examples.\n",
    "        \"\"\"\n",
    "\n",
    "    examples = f\"\"\"\n",
    "        EXAMPLES:\n",
    "        Here are a few real answers from students who made this mistake and have this knowledge profile:\n",
    "        {example_answers}\n",
    "        \"\"\"\n",
    "\n",
    "    messages = [{\"role\": \"system\", \"content\": SYSTEM_ROLE},\n",
    "                {\"role\": \"user\", \"content\": TASK_DESCRIPTION},\n",
    "                {\"role\": \"user\", \"content\": SOLUTION},\n",
    "                {\"role\": \"user\", \"content\": GRADING_RUBRICS},\n",
    "                {\"role\": \"user\", \"content\": KNOWLEDGE_PROFILES_EXPLANATION},\n",
    "                {\"role\": \"user\", \"content\": target_knowledge_profile_and_mistake},\n",
    "                {\"role\": \"user\", \"content\": examples},\n",
    "                {\"role\": \"user\", \"content\": OUTPUT_FORMAT}]\n",
    "    \n",
    "    return messages"
   ]
  },
  {
   "cell_type": "code",
   "execution_count": null,
   "id": "51c60f5d-7618-4ac1-be75-ef9a05da4c6c",
   "metadata": {},
   "outputs": [],
   "source": [
    "import json\n",
    "from datetime import datetime\n",
    "import os\n",
    "def save_completion_with_metadata(completion, prompt_messages, knowledge_profile, mistake_type, n, num_answers, temperature, save_dir):\n",
    "    # Add extra metadata to the completion object\n",
    "    completion[\"metadata\"] = {\n",
    "        \"prompt\": prompt_messages,\n",
    "        \"knowledge_profile\": knowledge_profile,\n",
    "        \"mistake_type\": mistake_type,\n",
    "        \"n_instances\": n,\n",
    "        \"num_answers\": num_answers,\n",
    "        \"temperature\": temperature\n",
    "    }\n",
    "    \n",
    "    # Generate filename with knowledge profile, date, and time\n",
    "    timestamp = datetime.now().strftime(\"%Y%m%d_%H%M%S\")\n",
    "    filename = f\"{knowledge_profile}_{timestamp}.json\"\n",
    "    save_path = os.path.join(save_dir, knowledge_profile, filename)\n",
    "    \n",
    "    os.makedirs(os.path.dirname(save_path), exist_ok=True)\n",
    "    with open(save_path, 'w') as json_file:\n",
    "        json.dump(completion, json_file, indent=4)\n",
    "    return save_path"
   ]
  },
  {
   "cell_type": "code",
   "execution_count": null,
   "id": "e310ed63-fb9b-4880-917c-17b9632949e0",
   "metadata": {},
   "outputs": [],
   "source": [
    "import json\n",
    "import os\n",
    "import re\n",
    "\n",
    "def process_json_to_txt(input_json_path, output_dir):\n",
    "    with open(input_json_path, 'r') as file:\n",
    "        data = json.load(file)\n",
    "\n",
    "    # Extract metadata from the filename\n",
    "    json_filename = os.path.basename(input_json_path)\n",
    "    base_filename = os.path.splitext(json_filename)[0]\n",
    "\n",
    "    for choice_index, choice in enumerate(data.get(\"choices\", [])):\n",
    "        content = choice.get(\"message\", {}).get(\"content\", \"\")\n",
    "\n",
    "        # Split content by '$' to separate each generated instance\n",
    "        instances = content.split('$')\n",
    "        \n",
    "        for idx, instance in enumerate(instances):\n",
    "            if instance.strip():  \n",
    "                # Remove the grade formatted between '&' characters\n",
    "                instance_cleaned = re.sub(r'&.*?&', '', instance).strip()\n",
    "\n",
    "                # Sanitize the mistake name to avoid issues with special characters\n",
    "                mistake_name = data.get(\"metadata\", {}).get(\"mistake_type\", \"unknown_mistake\").replace(' ', '_').replace('/', '_').replace('\\\\', '_').replace(':', '_').replace('>','').replace('\\'', '').replace('__', '_').replace('-', '_').replace('_^', '')[:30] \n",
    "                knowledge_profile = data.get(\"metadata\", {}).get(\"knowledge_profile\", \"unknown_profile\")\n",
    "                instance_dir = os.path.join(output_dir, knowledge_profile, mistake_name)\n",
    "                os.makedirs(instance_dir, exist_ok=True)\n",
    "\n",
    "                output_filename = f\"{base_filename}_{mistake_name}_{choice_index + 1}_{idx + 1}.txt\"\n",
    "                output_path = os.path.join(instance_dir, output_filename)\n",
    "\n",
    "                with open(output_path, 'w', encoding='utf-8') as txt_file:\n",
    "                    txt_file.write(instance_cleaned)\n"
   ]
  },
  {
   "cell_type": "markdown",
   "id": "ad63e4a4-f941-4182-a6bb-6e5cbb413279",
   "metadata": {},
   "source": [
    "## Prompt"
   ]
  },
  {
   "cell_type": "code",
   "execution_count": null,
   "id": "bb33e686-b10b-4e39-86f7-feaa7c41534b",
   "metadata": {},
   "outputs": [],
   "source": [
    "SYSTEM_ROLE = \"\"\"\n",
    "You are a text generator that generates realistic student responses for a proof by contraposition question. Your role is to simulate student answers based on provided knowledge profiles and specific mistakes, which will be explained in more detail along with examples. Avoid including any evaluative language or comments that could bias the responses, as the generated data is used to train classifiers. Maintain a neutral, student-like tone and focus on coherence and clarity in your responses.\n",
    "\"\"\""
   ]
  },
  {
   "cell_type": "code",
   "execution_count": null,
   "id": "388a6052-900d-4436-a31f-e803ce11bb04",
   "metadata": {},
   "outputs": [],
   "source": [
    "TASK_DESCRIPTION = \"\"\"\n",
    "TASK DESCRIPTION:\n",
    "Students are expected to answer this task:\n",
    "\"Let x be a real number. Prove that if x^2 is irrational, then x is irrational using a proof by contraposition.\n",
    "\n",
    "Reminders:\n",
    "- A real number x is irrational if it cannot be expressed as the quotient of two integers - that is, p/q where p and q (both integers) are not zero.\n",
    "- A real number x is rational if it can be expressed as the quotient of two integers - that is, p/q where p and q (both integers) are not zero.\"\n",
    "\"\"\""
   ]
  },
  {
   "cell_type": "code",
   "execution_count": null,
   "id": "605ecc6f-6f55-4a5c-b882-9f0289135017",
   "metadata": {},
   "outputs": [],
   "source": [
    "SOLUTION = \"\"\"\n",
    "SOLUTION:\n",
    "As a reference, here is the correct solution for this problem:\n",
    "A proof by contraposition of an implication consists in showing that if x is rational, then x^2 is rational.\n",
    "1. x is rational [Assumption]\n",
    "2. x = a/b, where a and b ≠ 0 are integers with no common factors. [Definition of a rational number]\n",
    "3. Therefore, x^2 = a^2/b^2. [Squaring]\n",
    "4. Hence, x^2 is rational. [Definition of a rational number]\n",
    "5. By contraposition, if x^2 is irrational, then x is irrational.\n",
    "\"\"\""
   ]
  },
  {
   "cell_type": "code",
   "execution_count": null,
   "id": "08359b98-a35f-443b-9f62-6ea056eca3bf",
   "metadata": {},
   "outputs": [],
   "source": [
    "GRADING_RUBRICS = \"\"\"\n",
    "GRADING RUBRICS:\n",
    "Students are graded using 4 binary rubrics:\n",
    "1. Statement of what should be proven: A proof by contraposition of an implication consists in showing that if x is rational, then x^2 is rational.\n",
    "2. Correct assumption: x is rational\n",
    "3. Correct proof reasoning\n",
    "4. Proof conclusion: By contraposition, if x^2 is irrational, then x is irrational.\n",
    "\n",
    "It is acceptable if students do not write the exact same answer as the solution. If the response satisfies the rubrics more or less, the student receives the point.\n",
    "\"\"\""
   ]
  },
  {
   "cell_type": "code",
   "execution_count": null,
   "id": "645dfa40-da02-4ac2-85b6-73361653fcb0",
   "metadata": {},
   "outputs": [],
   "source": [
    "KNOWLEDGE_PROFILES_EXPLANATION = \"\"\"\n",
    "KNOWLEDGE PROFILES:\n",
    "We identify a student's knowledge profile based on their score in these 4 rubrics. For example:\n",
    "- A student with all rubrics incorrect will have the profile 0-0-0-0.\n",
    "- A student who has rubric 1 and 2 correct but 3 and 4 incorrect will have the profile 1-1-0-0.\n",
    "\"\"\""
   ]
  },
  {
   "cell_type": "code",
   "execution_count": null,
   "id": "31d55a52-774f-4ba8-8e96-217b7cf42153",
   "metadata": {},
   "outputs": [],
   "source": [
    "OUTPUT_FORMAT = \"\"\"\n",
    "DESIRED OUTPUT FORMAT:\n",
    "- Separate each generated student answer with the character \"$\".\n",
    "- Do not include any comments or evaluative language since the data is used to train a classifier.\n",
    "- Words like \"correct\", \"incorrect\", \"right\", \"wrong\", \"correctly\", and \"incorrectly\" are not allowed.\n",
    "- When you generate an answer of a student that has mistakes, you have to act as a student who does not know the correct answer, and does not know that he is answering wrong.\n",
    "- You have to generate an answer that is coherent with the knowledge profile and the specific mistake of the student.\n",
    "- At the end of each answer, include a grade formatted between two \"&\" characters, such as &1111& for a student scoring 1 in all rubrics or &0000& for a student scoring 0 in all. Please evaluate each generated answer based on the rubrics provided, grading it independently of the target knowledge profile specified in this prompt. Do not assume the answer matches the target profile; instead, assess it as if you were grading any student's answer without prior knowledge of the intended profile.\n",
    "- Use the following syntax for formulas:\n",
    "  - To put a to the power of b: (a POWER b) or a^b. Vary the syntax between them.\n",
    "  - To divide a by b, use a/b.\n",
    "- Structure your proof line by line, as shown in the example:\n",
    "\"Show that from p ∧ (p -> q) we can conclude q:\n",
    "1) p ∧ (p -> q)\n",
    "2) p  \n",
    "3) (p -> q) \n",
    "4) q\"\n",
    "\"\"\""
   ]
  },
  {
   "cell_type": "markdown",
   "id": "6d77b204-71f6-4f6a-8d4a-be186a9798a2",
   "metadata": {},
   "source": [
    "## OpenAI Setup"
   ]
  },
  {
   "cell_type": "code",
   "execution_count": null,
   "id": "ea843417-72de-46c3-b9cc-2065918c2072",
   "metadata": {},
   "outputs": [],
   "source": [
    "key = 'API key'"
   ]
  },
  {
   "cell_type": "code",
   "execution_count": null,
   "id": "bdfe10a6-ad74-4930-8127-5717e1b07a7a",
   "metadata": {},
   "outputs": [],
   "source": [
    "from openai import OpenAI\n",
    "\n",
    "OpenAI.api_key = key\n",
    "client = OpenAI(api_key=key)\n",
    "\n",
    "model=\"gpt-4o\"\n",
    "temperature=1"
   ]
  },
  {
   "cell_type": "markdown",
   "id": "213e4739-ed99-4043-b2a4-146dedafcde1",
   "metadata": {},
   "source": [
    "## Generating Responses for 1000"
   ]
  },
  {
   "cell_type": "code",
   "execution_count": null,
   "id": "9cf53f7b-5563-4925-a138-8784707df68f",
   "metadata": {},
   "outputs": [],
   "source": [
    "data1_path = 'path/to/original/data'\n",
    "data2_path = 'path/to/kp/dataset/original'\n",
    "\n",
    "save_dir = f'raw_responses/temp_{temperature}'\n",
    "output_dir = f'processed_responses/temp_{temperature}' "
   ]
  },
  {
   "cell_type": "code",
   "execution_count": null,
   "id": "c8d12442-e86d-43aa-85ab-2c07b94988cc",
   "metadata": {},
   "outputs": [],
   "source": [
    "import pandas as pd\n",
    "\n",
    "# Load the dataset\n",
    "df1 = pd.read_excel(data1_path, sheet_name='contraposition')\n",
    "df2 = pd.read_excel(data2_path, dtype={'Knowledge Profile': str})\n",
    "\n",
    "# rubrics of the original dataset\n",
    "rubrics = [\n",
    "    'Statement of what should be proven: A proof by contraposition of an implication consists in showing that if x rational, then x^2 is rational. ',\n",
    "    'Correct assumption: x is rational [Assumption] ',\n",
    "    'Correct proof reasoning',\n",
    "    'Proof conclusion: By contraposition, if x^2 is irrational, then x is irrational.'\n",
    "]\n",
    "df1['Knowledge Profile'] = df1[rubrics].astype(str).agg(''.join, axis=1)"
   ]
  },
  {
   "cell_type": "markdown",
   "id": "9448cfd0-59b7-4fb2-a096-f58449e5ef37",
   "metadata": {},
   "source": [
    "### missing assumption"
   ]
  },
  {
   "cell_type": "code",
   "execution_count": null,
   "id": "6649196d-e862-49ee-948c-ad07ae0a73f1",
   "metadata": {
    "scrolled": true
   },
   "outputs": [],
   "source": [
    "target_knowledge_profile = '1000'\n",
    "target_mistake = 'missing assumption'\n",
    "num_answers = 2\n",
    "num_examples = 5\n",
    "dataset = 1\n",
    "\n",
    "if dataset == 1:\n",
    "    df = df1\n",
    "elif dataset == 2:\n",
    "    df = df2\n",
    "    \n",
    "examples_list = get_answers_for_mistake_and_profile(df, target_knowledge_profile, target_mistake)\n",
    "examples_count = min(num_examples, len(examples_list))\n",
    "example_answers = \"\\n\".join([f\"- {answer}\" for answer in examples_list[:examples_count]])\n",
    "print(\"Example answers: \", example_answers, ' \\n')\n",
    "# construct the prompt \n",
    "prompt = construct_prompt(target_knowledge_profile, target_mistake, num_answers, example_answers)\n",
    "print(\"Prompt: \", prompt, '\\n')\n",
    "\n",
    "n=20"
   ]
  },
  {
   "cell_type": "code",
   "execution_count": null,
   "id": "f98fadc8-da18-44e7-831e-5e7c43b74777",
   "metadata": {
    "scrolled": true
   },
   "outputs": [],
   "source": [
    "completion = client.chat.completions.create(\n",
    "    model=model,\n",
    "    messages=prompt,\n",
    "    temperature=temperature,\n",
    "    n=n\n",
    ")\n",
    "path = save_completion_with_metadata(completion.to_dict(), prompt, target_knowledge_profile, target_mistake, n, num_answers, temperature, save_dir=save_dir) \n",
    "process_json_to_txt(path, output_dir)"
   ]
  },
  {
   "cell_type": "markdown",
   "id": "d0068e42-63b6-4989-976b-688ad61efa95",
   "metadata": {},
   "source": [
    "### assume x^2 is rational"
   ]
  },
  {
   "cell_type": "code",
   "execution_count": null,
   "id": "d526c114-6906-4e0c-8c99-7a54094024bd",
   "metadata": {
    "scrolled": true
   },
   "outputs": [],
   "source": [
    "target_knowledge_profile = '1000'\n",
    "target_mistake = 'assume x\\^2 is rational'\n",
    "num_answers = 2\n",
    "num_examples = 5\n",
    "dataset = 2\n",
    "\n",
    "if dataset == 1:\n",
    "    df = df1\n",
    "elif dataset == 2:\n",
    "    df = df2\n",
    "    \n",
    "examples_list = get_answers_for_mistake_and_profile(df, target_knowledge_profile, target_mistake)\n",
    "examples_count = min(num_examples, len(examples_list))\n",
    "example_answers = \"\\n\".join([f\"- {answer}\" for answer in examples_list[:examples_count]])\n",
    "print(\"Example answers: \", example_answers, ' \\n')\n",
    "# construct the prompt \n",
    "prompt = construct_prompt(target_knowledge_profile, target_mistake, num_answers, example_answers)\n",
    "print(\"Prompt: \", prompt, '\\n')\n",
    "\n",
    "n=5"
   ]
  },
  {
   "cell_type": "code",
   "execution_count": null,
   "id": "23b4abe7-8c10-4d36-868b-b3c78e3551a2",
   "metadata": {
    "scrolled": true
   },
   "outputs": [],
   "source": [
    "completion = client.chat.completions.create(\n",
    "    model=model,\n",
    "    messages=prompt,\n",
    "    temperature=temperature,\n",
    "    n=n\n",
    ")\n",
    "path = save_completion_with_metadata(completion.to_dict(), prompt, target_knowledge_profile, target_mistake, n, num_answers, temperature, save_dir=save_dir) \n",
    "process_json_to_txt(path, output_dir)"
   ]
  },
  {
   "cell_type": "markdown",
   "id": "3c7d5f4c-fc43-4eb0-9a87-38f8ac7a49ae",
   "metadata": {},
   "source": [
    "### assume p->q and not q"
   ]
  },
  {
   "cell_type": "code",
   "execution_count": null,
   "id": "4c5bac83-0473-4b81-9449-77406b894dcf",
   "metadata": {
    "scrolled": true
   },
   "outputs": [],
   "source": [
    "target_knowledge_profile = '1000'\n",
    "target_mistake = 'assume p->q and not q'\n",
    "num_answers = 2\n",
    "num_examples = 5\n",
    "dataset = 2\n",
    "\n",
    "if dataset == 1:\n",
    "    df = df1\n",
    "elif dataset == 2:\n",
    "    df = df2\n",
    "    \n",
    "examples_list = get_answers_for_mistake_and_profile(df, target_knowledge_profile, target_mistake)\n",
    "examples_count = min(num_examples, len(examples_list))\n",
    "example_answers = \"\\n\".join([f\"- {answer}\" for answer in examples_list[:examples_count]])\n",
    "print(\"Example answers: \", example_answers, ' \\n')\n",
    "# construct the prompt \n",
    "prompt = construct_prompt(target_knowledge_profile, target_mistake, num_answers, example_answers)\n",
    "print(\"Prompt: \", prompt, '\\n')\n",
    "\n",
    "n=20"
   ]
  },
  {
   "cell_type": "code",
   "execution_count": null,
   "id": "858d518f-bfa3-494c-becf-cd96fc18372d",
   "metadata": {
    "scrolled": true
   },
   "outputs": [],
   "source": [
    "completion = client.chat.completions.create(\n",
    "    model=model,\n",
    "    messages=prompt,\n",
    "    temperature=temperature,\n",
    "    n=n\n",
    ")\n",
    "path = save_completion_with_metadata(completion.to_dict(), prompt, target_knowledge_profile, target_mistake, n, num_answers, temperature, save_dir=save_dir) \n",
    "process_json_to_txt(path, output_dir)"
   ]
  },
  {
   "cell_type": "markdown",
   "id": "e62611cc-92e4-48ff-8b73-3fe4b2e93d11",
   "metadata": {},
   "source": [
    "### assume x irrational"
   ]
  },
  {
   "cell_type": "code",
   "execution_count": null,
   "id": "1c0c85f7-aab5-4a81-9fe7-f62220e59065",
   "metadata": {
    "scrolled": true
   },
   "outputs": [],
   "source": [
    "target_knowledge_profile = '1000'\n",
    "target_mistake = 'assume x irrational'\n",
    "num_answers = 2\n",
    "num_examples = 5\n",
    "dataset = 2\n",
    "\n",
    "if dataset == 1:\n",
    "    df = df1\n",
    "elif dataset == 2:\n",
    "    df = df2\n",
    "    \n",
    "examples_list = get_answers_for_mistake_and_profile(df, target_knowledge_profile, target_mistake)\n",
    "examples_count = min(num_examples, len(examples_list))\n",
    "example_answers = \"\\n\".join([f\"- {answer}\" for answer in examples_list[:examples_count]])\n",
    "print(\"Example answers: \", example_answers, ' \\n')\n",
    "# construct the prompt \n",
    "prompt = construct_prompt(target_knowledge_profile, target_mistake, num_answers, example_answers)\n",
    "print(\"Prompt: \", prompt, '\\n')\n",
    "\n",
    "n=20"
   ]
  },
  {
   "cell_type": "code",
   "execution_count": null,
   "id": "6ccba2cf-0427-4587-88f5-cd1d614212cf",
   "metadata": {
    "scrolled": true
   },
   "outputs": [],
   "source": [
    "completion = client.chat.completions.create(\n",
    "    model=model,\n",
    "    messages=prompt,\n",
    "    temperature=temperature,\n",
    "    n=n\n",
    ")\n",
    "path = save_completion_with_metadata(completion.to_dict(), prompt, target_knowledge_profile, target_mistake, n, num_answers, temperature, save_dir=save_dir) \n",
    "process_json_to_txt(path, output_dir)"
   ]
  },
  {
   "cell_type": "markdown",
   "id": "ea1b48af-e4b6-4cc1-83b8-0493db462166",
   "metadata": {},
   "source": [
    "### assuming p -> q"
   ]
  },
  {
   "cell_type": "code",
   "execution_count": null,
   "id": "ab9daadf-1ae7-4f70-bf78-43ef7b60658f",
   "metadata": {
    "scrolled": true
   },
   "outputs": [],
   "source": [
    "target_knowledge_profile = '1000'\n",
    "target_mistake = 'assuming p -> q'\n",
    "num_answers = 2\n",
    "num_examples = 5\n",
    "dataset = 2\n",
    "\n",
    "if dataset == 1:\n",
    "    df = df1\n",
    "elif dataset == 2:\n",
    "    df = df2\n",
    "    \n",
    "examples_list = get_answers_for_mistake_and_profile(df, target_knowledge_profile, target_mistake)\n",
    "examples_count = min(num_examples, len(examples_list))\n",
    "example_answers = \"\\n\".join([f\"- {answer}\" for answer in examples_list[:examples_count]])\n",
    "print(\"Example answers: \", example_answers, ' \\n')\n",
    "# construct the prompt \n",
    "prompt = construct_prompt(target_knowledge_profile, target_mistake, num_answers, example_answers)\n",
    "print(\"Prompt: \", prompt, '\\n')\n",
    "\n",
    "n=20"
   ]
  },
  {
   "cell_type": "code",
   "execution_count": null,
   "id": "b07e04d4-0b0c-47c8-9955-e595f6590771",
   "metadata": {
    "scrolled": true
   },
   "outputs": [],
   "source": [
    "completion = client.chat.completions.create(\n",
    "    model=model,\n",
    "    messages=prompt,\n",
    "    temperature=temperature,\n",
    "    n=n\n",
    ")\n",
    "path = save_completion_with_metadata(completion.to_dict(), prompt, target_knowledge_profile, target_mistake, n, num_answers, temperature, save_dir=save_dir) \n",
    "process_json_to_txt(path, output_dir)"
   ]
  },
  {
   "cell_type": "code",
   "execution_count": null,
   "id": "a89959d4-00ac-42b2-9bbc-76fb9a7c62ea",
   "metadata": {},
   "outputs": [],
   "source": []
  }
 ],
 "metadata": {
  "kernelspec": {
   "display_name": "Python 3 (ipykernel)",
   "language": "python",
   "name": "python3"
  },
  "language_info": {
   "codemirror_mode": {
    "name": "ipython",
    "version": 3
   },
   "file_extension": ".py",
   "mimetype": "text/x-python",
   "name": "python",
   "nbconvert_exporter": "python",
   "pygments_lexer": "ipython3",
   "version": "3.9.20"
  }
 },
 "nbformat": 4,
 "nbformat_minor": 5
}
