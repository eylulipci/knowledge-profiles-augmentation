{
 "cells": [
  {
   "cell_type": "markdown",
   "id": "5027ce6d-f156-4d56-b847-6a380ffc0b4a",
   "metadata": {},
   "source": [
    "## Utils"
   ]
  },
  {
   "cell_type": "markdown",
   "id": "eb47eaba-4610-4028-8052-e3a1a525f818",
   "metadata": {},
   "source": [
    "### Descriptions of knowledge profiles and mistakes"
   ]
  },
  {
   "cell_type": "code",
   "execution_count": null,
   "id": "f8ae69a6-f007-418f-85d7-292fe791b66d",
   "metadata": {},
   "outputs": [],
   "source": [
    "knowledge_profiles = {\n",
    "    '1111': \"This knowledge profile represents student answers where the student correctly states what should be proven (rubric 1), makes the correct assumption (rubric 2), follows correct proof reasoning (rubric 3), and correctly concludes the proof (rubric 4). However, minor inconsistencies such as variations in notation or redundant steps may still be present.\",\n",
    "    '0000': \"This knowledge profile represents student answers where the student fails to correctly state what should be proven (rubric 1), does not make the correct assumption (rubric 2), lacks correct proof reasoning (rubric 3), and does not conclude the proof correctly (rubric 4).\",\n",
    "    '1110': \"This knowledge profile represents student answers where the student correctly states what should be proven (rubric 1), makes the correct assumption (rubric 2), and follows correct proof reasoning (rubric 3), but fails to correctly conclude the proof (rubric 4).\",\n",
    "    '0111': \"This knowledge profile represents student answers where the student fails to correctly state what should be proven (rubric 1) but makes the correct assumption (rubric 2), follows correct proof reasoning (rubric 3), and correctly concludes the proof (rubric 4).\",\n",
    "    '0110': \"This knowledge profile represents student answers where the student fails to correctly state what should be proven (rubric 1) but makes the correct assumption (rubric 2) and follows correct proof reasoning (rubric 3), but fails to correctly conclude the proof (rubric 4).\",\n",
    "    '1100': \"This knowledge profile represents student answers where the student correctly states what should be proven (rubric 1) and makes the correct assumption (rubric 2) but does not follow correct proof reasoning (rubric 3) and fails to conclude the proof correctly (rubric 4).\",\n",
    "    '1000': \"This knowledge profile represents student answers where the student correctly states what should be proven (rubric 1) but does not make the correct assumption (rubric 2), lacks correct proof reasoning (rubric 3), and does not conclude the proof correctly (rubric 4).\",\n",
    "    '0100': \"This knowledge profile represents student answers where the student fails to correctly state what should be proven (rubric 1) but makes the correct assumption (rubric 2), while lacking correct proof reasoning (rubric 3) and not concluding the proof correctly (rubric 4).\"\n",
    "    }"
   ]
  },
  {
   "cell_type": "markdown",
   "id": "52810195-60ba-4f76-a914-0c2cf909e1f3",
   "metadata": {},
   "source": [
    "### Prompt structure"
   ]
  },
  {
   "cell_type": "markdown",
   "id": "d3d9556b-e3d4-49f8-b39b-de7cb290af11",
   "metadata": {},
   "source": [
    "Static parts of the prompt"
   ]
  },
  {
   "cell_type": "code",
   "execution_count": null,
   "id": "5fb09185-fb1f-4657-b8c0-137fcb10ecbf",
   "metadata": {},
   "outputs": [],
   "source": [
    "SYSTEM_ROLE = \"\"\"\n",
    "You are a text generator that generates realistic student responses for a proof by contraposition question. Your role is to simulate student answers based on provided knowledge profiles, which will be explained in more detail along with examples. Avoid including any evaluative language or comments that could bias the responses, as the generated data is used to train classifiers. Maintain a neutral, student-like tone and focus on coherence and clarity in your responses.\n",
    "\"\"\""
   ]
  },
  {
   "cell_type": "code",
   "execution_count": null,
   "id": "b7efef17-aeec-4e26-87ab-2d26f86c8413",
   "metadata": {},
   "outputs": [],
   "source": [
    "TASK_DESCRIPTION = \"\"\"\n",
    "TASK DESCRIPTION:\n",
    "Students are expected to answer this task:\n",
    "\"Let x be a real number. Prove that if x^2 is irrational, then x is irrational using a proof by contraposition.\n",
    "\n",
    "Reminders:\n",
    "- A real number x is irrational if it cannot be expressed as the quotient of two integers - that is, p/q where p and q (both integers) are not zero.\n",
    "- A real number x is rational if it can be expressed as the quotient of two integers - that is, p/q where p and q (both integers) are not zero.\"\n",
    "\"\"\""
   ]
  },
  {
   "cell_type": "code",
   "execution_count": null,
   "id": "0cc00887-688d-49f3-98f6-17f863a58ad0",
   "metadata": {},
   "outputs": [],
   "source": [
    "SOLUTION = \"\"\"\n",
    "SOLUTION:\n",
    "As a reference, here is the correct solution for this problem:\n",
    "A proof by contraposition of an implication consists in showing that if x is rational, then x^2 is rational.\n",
    "1. x is rational [Assumption]\n",
    "2. x = a/b, where a and b ≠ 0 are integers with no common factors. [Definition of a rational number]\n",
    "3. Therefore, x^2 = a^2/b^2. [Squaring]\n",
    "4. Hence, x^2 is rational. [Definition of a rational number]\n",
    "5. By contraposition, if x^2 is irrational, then x is irrational.\n",
    "\"\"\""
   ]
  },
  {
   "cell_type": "code",
   "execution_count": null,
   "id": "d64bdc50-8b40-47e5-abf1-67e76ecb7eb6",
   "metadata": {},
   "outputs": [],
   "source": [
    "GRADING_RUBRICS = \"\"\"\n",
    "GRADING RUBRICS:\n",
    "Students are graded using 4 binary rubrics:\n",
    "1. Statement of what should be proven: A proof by contraposition of an implication consists in showing that if x is rational, then x^2 is rational.\n",
    "2. Correct assumption: x is rational\n",
    "3. Correct proof reasoning\n",
    "4. Proof conclusion: By contraposition, if x^2 is irrational, then x is irrational.\n",
    "\n",
    "It is acceptable if students do not write the exact same answer as the solution. If the response satisfies the rubrics more or less, the student receives the point.\n",
    "\"\"\""
   ]
  },
  {
   "cell_type": "code",
   "execution_count": null,
   "id": "671a6fe3-7f3f-449b-b377-1e7ef22551be",
   "metadata": {},
   "outputs": [],
   "source": [
    "KNOWLEDGE_PROFILES_EXPLANATION = \"\"\"\n",
    "KNOWLEDGE PROFILES:\n",
    "We identify a student's knowledge profile based on their score in these 4 rubrics. For example:\n",
    "- A student with all rubrics incorrect will have the profile 0-0-0-0.\n",
    "- A student who has rubric 1 and 2 correct but 3 and 4 incorrect will have the profile 1-1-0-0.\n",
    "\"\"\""
   ]
  },
  {
   "cell_type": "code",
   "execution_count": null,
   "id": "a7bcf660-ab33-4082-ad29-f4a93799053c",
   "metadata": {},
   "outputs": [],
   "source": [
    "OUTPUT_FORMAT = \"\"\"\n",
    "DESIRED OUTPUT FORMAT:\n",
    "- Separate each generated student answer with the character \"$\".\n",
    "- Do not include any comments or evaluative language since the data is used to train a classifier.\n",
    "- Words like \"correct\", \"incorrect\", \"right\", \"wrong\", \"correctly\", and \"incorrectly\" are not allowed.\n",
    "- When you generate an answer of a student that has mistakes, you have to act as a student who does not know the correct answer, and does not know that he is answering wrong.\n",
    "- You have to generate an answer that is coherent with the knowledge profile of the student.\n",
    "- At the end of each answer, include a grade formatted between two \"&\" characters, such as &1111& for a student scoring 1 in all rubrics or &0000& for a student scoring 0 in all. Please evaluate each generated answer based on the rubrics provided, grading it independently of the target knowledge profile specified in this prompt. Do not assume the answer matches the target profile; instead, assess it as if you were grading any student's answer without prior knowledge of the intended profile.\n",
    "- Use the following syntax for formulas:\n",
    "  - To put a to the power of b: (a POWER b) or a^b. Vary the syntax between them.\n",
    "  - To divide a by b, use a/b.\n",
    "- Structure your proof line by line, as shown in the example:\n",
    "\"Show that from p ∧ (p -> q) we can conclude q:\n",
    "1) p ∧ (p -> q)\n",
    "2) p  \n",
    "3) (p -> q) \n",
    "4) q\"\n",
    "\"\"\""
   ]
  },
  {
   "cell_type": "markdown",
   "id": "55f1afb1-9392-4a3e-9bd1-dedb0b92ae17",
   "metadata": {},
   "source": [
    "### OpenAI Setup"
   ]
  },
  {
   "cell_type": "code",
   "execution_count": null,
   "id": "ee72b246-e525-444e-9823-f58ee4a6dceb",
   "metadata": {},
   "outputs": [],
   "source": [
    "key = 'API key'"
   ]
  },
  {
   "cell_type": "code",
   "execution_count": null,
   "id": "30fbb0cd-6943-4956-b548-6216c98a157c",
   "metadata": {},
   "outputs": [],
   "source": [
    "from openai import OpenAI\n",
    "\n",
    "OpenAI.api_key = key\n",
    "client = OpenAI(api_key=key)\n",
    "\n",
    "model=\"gpt-4o\"\n",
    "temperature=1"
   ]
  },
  {
   "cell_type": "markdown",
   "id": "fc2b38bd-efb5-45f0-a242-efd158d81f5b",
   "metadata": {},
   "source": [
    "## Helper Functions"
   ]
  },
  {
   "cell_type": "code",
   "execution_count": null,
   "id": "3e613ec4-3d73-4749-bcf6-54eab0f9563c",
   "metadata": {},
   "outputs": [],
   "source": [
    "import random\n",
    "random.seed(42)\n",
    "def get_answers_for_mistake_and_profile(df, knowledge_profile, profile_column='Knowledge Profile', answer_column='CONTRAPOSITION task'):\n",
    "\n",
    "    filtered_df = df[df[profile_column] == knowledge_profile]\n",
    "    answers = filtered_df[answer_column].tolist()\n",
    "\n",
    "    random.shuffle(answers)\n",
    "    \n",
    "    return answers"
   ]
  },
  {
   "cell_type": "code",
   "execution_count": null,
   "id": "d47c167a-f186-457d-be43-6fb39f8b3d2f",
   "metadata": {},
   "outputs": [],
   "source": [
    "def construct_prompt(target_knowledge_profile, num_answers, example_answers):\n",
    "\n",
    "    # define generic parts of the prompt\n",
    "    target_knowledge_profile = f\"\"\"\n",
    "        TARGET KNOWLEDGE PROFILE AND MISTAKE:\n",
    "        I want you to generate answers for {num_answers} students with the knowledge profile {target_knowledge_profile}. {knowledge_profiles[target_knowledge_profile]} \n",
    "        You will generate student answers with this profile.\n",
    "        Please ensure that each answer demonstrates the specified knowledge profile characteristics. Do not just generate an answer with the mistake and a correct proof otherwise; the answer should reflect the knowledge profile.\n",
    "        The generated answers have to be different and diverse, do not just paraphrase the given examples.\n",
    "        \"\"\"\n",
    "\n",
    "    examples = f\"\"\"\n",
    "        EXAMPLES:\n",
    "        Here are a few real answers from students who have this knowledge profile:\n",
    "        {example_answers}\n",
    "        \"\"\"\n",
    "\n",
    "    messages = [{\"role\": \"system\", \"content\": SYSTEM_ROLE},\n",
    "                {\"role\": \"user\", \"content\": TASK_DESCRIPTION},\n",
    "                {\"role\": \"user\", \"content\": SOLUTION},\n",
    "                {\"role\": \"user\", \"content\": GRADING_RUBRICS},\n",
    "                {\"role\": \"user\", \"content\": KNOWLEDGE_PROFILES_EXPLANATION},\n",
    "                {\"role\": \"user\", \"content\": target_knowledge_profile},\n",
    "                {\"role\": \"user\", \"content\": examples},\n",
    "                {\"role\": \"user\", \"content\": OUTPUT_FORMAT}]\n",
    "    \n",
    "    return messages"
   ]
  },
  {
   "cell_type": "code",
   "execution_count": null,
   "id": "ab1acbf0-c484-48c5-ab46-dc379a43ca76",
   "metadata": {},
   "outputs": [],
   "source": [
    "import json\n",
    "from datetime import datetime\n",
    "import os\n",
    "def save_completion_with_metadata(completion, prompt_messages, knowledge_profile, n, num_answers, temperature, save_dir):\n",
    "    # Add extra metadata to the completion object\n",
    "    completion[\"metadata\"] = {\n",
    "        \"prompt\": prompt_messages,\n",
    "        \"knowledge_profile\": knowledge_profile,\n",
    "        \"n_instances\": n,\n",
    "        \"num_answers\": num_answers,\n",
    "        \"temperature\": temperature\n",
    "    }\n",
    "    \n",
    "    # Generate filename with knowledge profile, date, and time\n",
    "    timestamp = datetime.now().strftime(\"%Y%m%d_%H%M%S\")\n",
    "    filename = f\"{knowledge_profile}_{timestamp}.json\"\n",
    "    save_path = os.path.join(save_dir, knowledge_profile, filename)\n",
    "    \n",
    "    os.makedirs(os.path.dirname(save_path), exist_ok=True)\n",
    "    with open(save_path, 'w') as json_file:\n",
    "        json.dump(completion, json_file, indent=4)\n",
    "\n",
    "    return save_path"
   ]
  },
  {
   "cell_type": "code",
   "execution_count": null,
   "id": "50bc7f9d-a24e-438a-a5a4-d075735707e6",
   "metadata": {},
   "outputs": [],
   "source": [
    "import json\n",
    "import os\n",
    "import re\n",
    "\n",
    "def process_json_to_txt(input_json_path, output_dir):\n",
    "    with open(input_json_path, 'r') as file:\n",
    "        data = json.load(file)\n",
    "\n",
    "    # Extract metadata from the filename\n",
    "    json_filename = os.path.basename(input_json_path)\n",
    "    base_filename = os.path.splitext(json_filename)[0]\n",
    "\n",
    "    for choice_index, choice in enumerate(data.get(\"choices\", [])):\n",
    "        content = choice.get(\"message\", {}).get(\"content\", \"\")\n",
    "\n",
    "        # Split content by '$' to separate each generated instance\n",
    "        instances = content.split('$')\n",
    "        \n",
    "        for idx, instance in enumerate(instances):\n",
    "            if instance.strip():  \n",
    "                # Remove the grade formatted between '&' characters\n",
    "                instance_cleaned = re.sub(r'&.*?&', '', instance).strip()\n",
    "\n",
    "                knowledge_profile = data.get(\"metadata\", {}).get(\"knowledge_profile\", \"unknown_profile\")\n",
    "                instance_dir = os.path.join(output_dir, knowledge_profile)\n",
    "                os.makedirs(instance_dir, exist_ok=True)\n",
    "\n",
    "                output_filename = f\"{base_filename}_{choice_index + 1}_{idx + 1}.txt\"\n",
    "                output_path = os.path.join(instance_dir, output_filename)\n",
    "\n",
    "                with open(output_path, 'w', encoding='utf-8') as txt_file:\n",
    "                    txt_file.write(instance_cleaned)\n"
   ]
  },
  {
   "cell_type": "markdown",
   "id": "8f0933c6-da71-4bab-999d-1a9d23610799",
   "metadata": {},
   "source": [
    "## Pipeline"
   ]
  },
  {
   "cell_type": "markdown",
   "id": "8c338892-b871-4cd7-b51f-a2926e57e8eb",
   "metadata": {},
   "source": [
    "Read and identify knowledge profiles in the dataset."
   ]
  },
  {
   "cell_type": "code",
   "execution_count": null,
   "id": "92666346-99c4-42d4-a68d-704d778b8086",
   "metadata": {},
   "outputs": [],
   "source": [
    "dataset_path = 'path/to/original/data'"
   ]
  },
  {
   "cell_type": "code",
   "execution_count": null,
   "id": "04a406cd-a9bb-4898-8b1d-ad1bcec80842",
   "metadata": {},
   "outputs": [],
   "source": [
    "import pandas as pd\n",
    "\n",
    "# Load the dataset\n",
    "df = pd.read_excel(dataset_path, sheet_name='contraposition')\n",
    "\n",
    "# rubrics of the original dataset\n",
    "rubrics = [\n",
    "    'Statement of what should be proven: A proof by contraposition of an implication consists in showing that if x rational, then x^2 is rational. ',\n",
    "    'Correct assumption: x is rational [Assumption] ',\n",
    "    'Correct proof reasoning',\n",
    "    'Proof conclusion: By contraposition, if x^2 is irrational, then x is irrational.'\n",
    "]\n",
    "\n",
    "df['Knowledge Profile'] = df[rubrics].astype(str).agg(''.join, axis=1)"
   ]
  },
  {
   "cell_type": "markdown",
   "id": "eb8ee629-c087-4703-a8f5-b6be9422678c",
   "metadata": {},
   "source": [
    "Define prompt parameters"
   ]
  },
  {
   "cell_type": "code",
   "execution_count": null,
   "id": "51be47c9-d9e3-46a7-8a62-2abf662889f4",
   "metadata": {
    "scrolled": true
   },
   "outputs": [],
   "source": [
    "profile = '0111'\n",
    "num_answers = 2\n",
    "num_examples = 5\n",
    "examples_list = get_answers_for_mistake_and_profile(df, profile)\n",
    "examples_count = min(num_examples, len(examples_list))\n",
    "example_answers = \"\\n\".join([f\"- {answer}\" for answer in examples_list[:examples_count]])\n",
    "\n",
    "print(\"Example answers: \", example_answers, ' \\n')\n",
    "# construct the prompt \n",
    "prompt = construct_prompt(profile, num_answers, example_answers)\n",
    "print(\"Prompt: \", prompt, '\\n')\n",
    "\n",
    "n=30\n",
    "save_dir = f'raw_responses/temp_{temperature}'\n",
    "output_dir = f'processed_responses/temp_{temperature}'"
   ]
  },
  {
   "cell_type": "code",
   "execution_count": null,
   "id": "ff7c42ba-4719-4922-9e89-fbce7890766b",
   "metadata": {
    "scrolled": true
   },
   "outputs": [],
   "source": [
    "completion = client.chat.completions.create(\n",
    "    model=model,\n",
    "    messages=prompt,\n",
    "    temperature=temperature,\n",
    "    n=n\n",
    ")\n",
    "path = save_completion_with_metadata(completion.to_dict(), prompt, profile, n, num_answers, temperature, save_dir=save_dir) \n",
    "process_json_to_txt(path, output_dir)"
   ]
  }
 ],
 "metadata": {
  "kernelspec": {
   "display_name": "Python 3 (ipykernel)",
   "language": "python",
   "name": "python3"
  },
  "language_info": {
   "codemirror_mode": {
    "name": "ipython",
    "version": 3
   },
   "file_extension": ".py",
   "mimetype": "text/x-python",
   "name": "python",
   "nbconvert_exporter": "python",
   "pygments_lexer": "ipython3",
   "version": "3.9.20"
  }
 },
 "nbformat": 4,
 "nbformat_minor": 5
}
